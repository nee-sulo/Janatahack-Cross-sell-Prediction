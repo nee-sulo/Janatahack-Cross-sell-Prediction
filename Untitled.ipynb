{
 "cells": [
  {
   "cell_type": "code",
   "execution_count": 1,
   "metadata": {},
   "outputs": [
    {
     "name": "stderr",
     "output_type": "stream",
     "text": [
      "E:\\ANACONDA\\lib\\site-packages\\statsmodels\\tools\\_testing.py:19: FutureWarning: pandas.util.testing is deprecated. Use the functions in the public API at pandas.testing instead.\n",
      "  import pandas.util.testing as tm\n"
     ]
    }
   ],
   "source": [
    "import pandas as pd\n",
    "import numpy as np\n",
    "import seaborn as sns\n",
    "import matplotlib.pyplot as plt\n",
    "import pandas.util.testing as tm"
   ]
  },
  {
   "cell_type": "code",
   "execution_count": 2,
   "metadata": {},
   "outputs": [
    {
     "data": {
      "text/html": [
       "<div>\n",
       "<style scoped>\n",
       "    .dataframe tbody tr th:only-of-type {\n",
       "        vertical-align: middle;\n",
       "    }\n",
       "\n",
       "    .dataframe tbody tr th {\n",
       "        vertical-align: top;\n",
       "    }\n",
       "\n",
       "    .dataframe thead th {\n",
       "        text-align: right;\n",
       "    }\n",
       "</style>\n",
       "<table border=\"1\" class=\"dataframe\">\n",
       "  <thead>\n",
       "    <tr style=\"text-align: right;\">\n",
       "      <th></th>\n",
       "      <th>id</th>\n",
       "      <th>Gender</th>\n",
       "      <th>Age</th>\n",
       "      <th>Driving_License</th>\n",
       "      <th>Region_Code</th>\n",
       "      <th>Previously_Insured</th>\n",
       "      <th>Vehicle_Age</th>\n",
       "      <th>Vehicle_Damage</th>\n",
       "      <th>Annual_Premium</th>\n",
       "      <th>Policy_Sales_Channel</th>\n",
       "      <th>Vintage</th>\n",
       "      <th>Response</th>\n",
       "    </tr>\n",
       "  </thead>\n",
       "  <tbody>\n",
       "    <tr>\n",
       "      <th>0</th>\n",
       "      <td>1</td>\n",
       "      <td>Male</td>\n",
       "      <td>44</td>\n",
       "      <td>1</td>\n",
       "      <td>28.0</td>\n",
       "      <td>0</td>\n",
       "      <td>&gt; 2 Years</td>\n",
       "      <td>Yes</td>\n",
       "      <td>40454.0</td>\n",
       "      <td>26.0</td>\n",
       "      <td>217</td>\n",
       "      <td>1</td>\n",
       "    </tr>\n",
       "    <tr>\n",
       "      <th>1</th>\n",
       "      <td>2</td>\n",
       "      <td>Male</td>\n",
       "      <td>76</td>\n",
       "      <td>1</td>\n",
       "      <td>3.0</td>\n",
       "      <td>0</td>\n",
       "      <td>1-2 Year</td>\n",
       "      <td>No</td>\n",
       "      <td>33536.0</td>\n",
       "      <td>26.0</td>\n",
       "      <td>183</td>\n",
       "      <td>0</td>\n",
       "    </tr>\n",
       "    <tr>\n",
       "      <th>2</th>\n",
       "      <td>3</td>\n",
       "      <td>Male</td>\n",
       "      <td>47</td>\n",
       "      <td>1</td>\n",
       "      <td>28.0</td>\n",
       "      <td>0</td>\n",
       "      <td>&gt; 2 Years</td>\n",
       "      <td>Yes</td>\n",
       "      <td>38294.0</td>\n",
       "      <td>26.0</td>\n",
       "      <td>27</td>\n",
       "      <td>1</td>\n",
       "    </tr>\n",
       "    <tr>\n",
       "      <th>3</th>\n",
       "      <td>4</td>\n",
       "      <td>Male</td>\n",
       "      <td>21</td>\n",
       "      <td>1</td>\n",
       "      <td>11.0</td>\n",
       "      <td>1</td>\n",
       "      <td>&lt; 1 Year</td>\n",
       "      <td>No</td>\n",
       "      <td>28619.0</td>\n",
       "      <td>152.0</td>\n",
       "      <td>203</td>\n",
       "      <td>0</td>\n",
       "    </tr>\n",
       "    <tr>\n",
       "      <th>4</th>\n",
       "      <td>5</td>\n",
       "      <td>Female</td>\n",
       "      <td>29</td>\n",
       "      <td>1</td>\n",
       "      <td>41.0</td>\n",
       "      <td>1</td>\n",
       "      <td>&lt; 1 Year</td>\n",
       "      <td>No</td>\n",
       "      <td>27496.0</td>\n",
       "      <td>152.0</td>\n",
       "      <td>39</td>\n",
       "      <td>0</td>\n",
       "    </tr>\n",
       "  </tbody>\n",
       "</table>\n",
       "</div>"
      ],
      "text/plain": [
       "   id  Gender  Age  Driving_License  Region_Code  Previously_Insured  \\\n",
       "0   1    Male   44                1         28.0                   0   \n",
       "1   2    Male   76                1          3.0                   0   \n",
       "2   3    Male   47                1         28.0                   0   \n",
       "3   4    Male   21                1         11.0                   1   \n",
       "4   5  Female   29                1         41.0                   1   \n",
       "\n",
       "  Vehicle_Age Vehicle_Damage  Annual_Premium  Policy_Sales_Channel  Vintage  \\\n",
       "0   > 2 Years            Yes         40454.0                  26.0      217   \n",
       "1    1-2 Year             No         33536.0                  26.0      183   \n",
       "2   > 2 Years            Yes         38294.0                  26.0       27   \n",
       "3    < 1 Year             No         28619.0                 152.0      203   \n",
       "4    < 1 Year             No         27496.0                 152.0       39   \n",
       "\n",
       "   Response  \n",
       "0         1  \n",
       "1         0  \n",
       "2         1  \n",
       "3         0  \n",
       "4         0  "
      ]
     },
     "execution_count": 2,
     "metadata": {},
     "output_type": "execute_result"
    }
   ],
   "source": [
    "pd.set_option('Display.max_columns',None)\n",
    "\n",
    "# Load Dataset\n",
    "train=pd.read_csv('train.csv')\n",
    "train.head()"
   ]
  },
  {
   "cell_type": "code",
   "execution_count": 3,
   "metadata": {},
   "outputs": [
    {
     "data": {
      "text/html": [
       "<div>\n",
       "<style scoped>\n",
       "    .dataframe tbody tr th:only-of-type {\n",
       "        vertical-align: middle;\n",
       "    }\n",
       "\n",
       "    .dataframe tbody tr th {\n",
       "        vertical-align: top;\n",
       "    }\n",
       "\n",
       "    .dataframe thead th {\n",
       "        text-align: right;\n",
       "    }\n",
       "</style>\n",
       "<table border=\"1\" class=\"dataframe\">\n",
       "  <thead>\n",
       "    <tr style=\"text-align: right;\">\n",
       "      <th></th>\n",
       "      <th>id</th>\n",
       "      <th>Gender</th>\n",
       "      <th>Age</th>\n",
       "      <th>Driving_License</th>\n",
       "      <th>Region_Code</th>\n",
       "      <th>Previously_Insured</th>\n",
       "      <th>Vehicle_Age</th>\n",
       "      <th>Vehicle_Damage</th>\n",
       "      <th>Annual_Premium</th>\n",
       "      <th>Policy_Sales_Channel</th>\n",
       "      <th>Vintage</th>\n",
       "    </tr>\n",
       "  </thead>\n",
       "  <tbody>\n",
       "    <tr>\n",
       "      <th>0</th>\n",
       "      <td>381110</td>\n",
       "      <td>Male</td>\n",
       "      <td>25</td>\n",
       "      <td>1</td>\n",
       "      <td>11.0</td>\n",
       "      <td>1</td>\n",
       "      <td>&lt; 1 Year</td>\n",
       "      <td>No</td>\n",
       "      <td>35786.0</td>\n",
       "      <td>152.0</td>\n",
       "      <td>53</td>\n",
       "    </tr>\n",
       "    <tr>\n",
       "      <th>1</th>\n",
       "      <td>381111</td>\n",
       "      <td>Male</td>\n",
       "      <td>40</td>\n",
       "      <td>1</td>\n",
       "      <td>28.0</td>\n",
       "      <td>0</td>\n",
       "      <td>1-2 Year</td>\n",
       "      <td>Yes</td>\n",
       "      <td>33762.0</td>\n",
       "      <td>7.0</td>\n",
       "      <td>111</td>\n",
       "    </tr>\n",
       "    <tr>\n",
       "      <th>2</th>\n",
       "      <td>381112</td>\n",
       "      <td>Male</td>\n",
       "      <td>47</td>\n",
       "      <td>1</td>\n",
       "      <td>28.0</td>\n",
       "      <td>0</td>\n",
       "      <td>1-2 Year</td>\n",
       "      <td>Yes</td>\n",
       "      <td>40050.0</td>\n",
       "      <td>124.0</td>\n",
       "      <td>199</td>\n",
       "    </tr>\n",
       "    <tr>\n",
       "      <th>3</th>\n",
       "      <td>381113</td>\n",
       "      <td>Male</td>\n",
       "      <td>24</td>\n",
       "      <td>1</td>\n",
       "      <td>27.0</td>\n",
       "      <td>1</td>\n",
       "      <td>&lt; 1 Year</td>\n",
       "      <td>Yes</td>\n",
       "      <td>37356.0</td>\n",
       "      <td>152.0</td>\n",
       "      <td>187</td>\n",
       "    </tr>\n",
       "    <tr>\n",
       "      <th>4</th>\n",
       "      <td>381114</td>\n",
       "      <td>Male</td>\n",
       "      <td>27</td>\n",
       "      <td>1</td>\n",
       "      <td>28.0</td>\n",
       "      <td>1</td>\n",
       "      <td>&lt; 1 Year</td>\n",
       "      <td>No</td>\n",
       "      <td>59097.0</td>\n",
       "      <td>152.0</td>\n",
       "      <td>297</td>\n",
       "    </tr>\n",
       "  </tbody>\n",
       "</table>\n",
       "</div>"
      ],
      "text/plain": [
       "       id Gender  Age  Driving_License  Region_Code  Previously_Insured  \\\n",
       "0  381110   Male   25                1         11.0                   1   \n",
       "1  381111   Male   40                1         28.0                   0   \n",
       "2  381112   Male   47                1         28.0                   0   \n",
       "3  381113   Male   24                1         27.0                   1   \n",
       "4  381114   Male   27                1         28.0                   1   \n",
       "\n",
       "  Vehicle_Age Vehicle_Damage  Annual_Premium  Policy_Sales_Channel  Vintage  \n",
       "0    < 1 Year             No         35786.0                 152.0       53  \n",
       "1    1-2 Year            Yes         33762.0                   7.0      111  \n",
       "2    1-2 Year            Yes         40050.0                 124.0      199  \n",
       "3    < 1 Year            Yes         37356.0                 152.0      187  \n",
       "4    < 1 Year             No         59097.0                 152.0      297  "
      ]
     },
     "execution_count": 3,
     "metadata": {},
     "output_type": "execute_result"
    }
   ],
   "source": [
    "test=pd.read_csv('test.csv')\n",
    "test.head()"
   ]
  },
  {
   "cell_type": "code",
   "execution_count": 4,
   "metadata": {},
   "outputs": [
    {
     "name": "stdout",
     "output_type": "stream",
     "text": [
      "Train data have 381109 rows and 12 columns\n",
      "Test data have 127037 rows and 11 columns\n"
     ]
    }
   ],
   "source": [
    "# Shape of train and test data\n",
    "print(\"Train data have {} rows and {} columns\".format(train.shape[0],train.shape[1]))\n",
    "print(\"Test data have {} rows and {} columns\".format(test.shape[0],test.shape[1]))"
   ]
  },
  {
   "cell_type": "markdown",
   "metadata": {},
   "source": [
    "Missing value check"
   ]
  },
  {
   "cell_type": "code",
   "execution_count": 5,
   "metadata": {},
   "outputs": [
    {
     "name": "stdout",
     "output_type": "stream",
     "text": [
      "0\n",
      "0\n"
     ]
    }
   ],
   "source": [
    "print(train.isnull().sum().sum())\n",
    "print(test.isnull().sum().sum())"
   ]
  },
  {
   "cell_type": "code",
   "execution_count": 6,
   "metadata": {},
   "outputs": [
    {
     "name": "stdout",
     "output_type": "stream",
     "text": [
      "id 381109 \n",
      " [     1      2      3 ... 381107 381108 381109]\n",
      "Gender 2 \n",
      " ['Male' 'Female']\n",
      "Age 66 \n",
      " [44 76 47 21 29 24 23 56 32 41 71 37 25 42 60 65 49 34 51 26 57 79 48 45\n",
      " 72 30 54 27 38 22 78 20 39 62 58 59 63 50 67 77 28 69 52 31 33 43 36 53\n",
      " 70 46 55 40 61 75 64 35 66 68 74 73 84 83 81 80 82 85]\n",
      "Driving_License 2 \n",
      " [1 0]\n",
      "Region_Code 53 \n",
      " [28.  3. 11. 41. 33.  6. 35. 50. 15. 45.  8. 36. 30. 26. 16. 47. 48. 19.\n",
      " 39. 23. 37.  5. 17.  2.  7. 29. 46. 27. 25. 13. 18. 20. 49. 22. 44.  0.\n",
      "  9. 31. 12. 34. 21. 10. 14. 38. 24. 40. 43. 32.  4. 51. 42.  1. 52.]\n",
      "Previously_Insured 2 \n",
      " [0 1]\n",
      "Vehicle_Age 3 \n",
      " ['> 2 Years' '1-2 Year' '< 1 Year']\n",
      "Vehicle_Damage 2 \n",
      " ['Yes' 'No']\n",
      "Annual_Premium 48838 \n",
      " [ 40454.  33536.  38294. ...  20706. 101664.  69845.]\n",
      "Policy_Sales_Channel 155 \n",
      " [ 26. 152. 160. 124.  14.  13.  30. 156. 163. 157. 122.  19.  22.  15.\n",
      " 154.  16.  52. 155.  11. 151. 125.  25.  61.   1.  86.  31. 150.  23.\n",
      "  60.  21. 121.   3. 139.  12.  29.  55.   7.  47. 127. 153.  78. 158.\n",
      "  89.  32.   8.  10. 120.  65.   4.  42.  83. 136.  24.  18.  56.  48.\n",
      " 106.  54.  93. 116.  91.  45.   9. 145. 147.  44. 109.  37. 140. 107.\n",
      " 128. 131. 114. 118. 159. 119. 105. 135.  62. 138. 129.  88.  92. 111.\n",
      " 113.  73.  36.  28.  35.  59.  53. 148. 133. 108.  64.  39.  94. 132.\n",
      "  46.  81. 103.  90.  51.  27. 146.  63.  96.  40.  66. 100.  95. 123.\n",
      "  98.  75.  69. 130. 134.  49.  97.  38.  17. 110.  80.  71. 117.  58.\n",
      "  20.  76. 104.  87.  84. 137. 126.  68.  67. 101. 115.  57.  82.  79.\n",
      " 112.  99.  70.   2.  34.  33.  74. 102. 149.  43.   6.  50. 144. 143.\n",
      "  41.]\n",
      "Vintage 290 \n",
      " [217 183  27 203  39 176 249  72  28  80  46 289 221  15  58 147 256 299\n",
      " 158 102 116 177 232  60 180  49  57 223 136 222 149 169  88 253 107 264\n",
      " 233  45 184 251 153 186  71  34  83  12 246 141 216 130 282  73 171 283\n",
      " 295 165  30 218  22  36  79  81 100  63 242 277  61 111 167  74 235 131\n",
      " 243 248 114 281  62 189 139 138 209 254 291  68  92  52  78 156 247 275\n",
      "  77 181 229 166  16  23  31 293 219  50 155  66 260  19 258 117 193 204\n",
      " 212 144 234 206 228 125  29  18  84 230  54 123 101  86  13 237  85  98\n",
      "  67 128  95  89  99 208 134 135 268 284 119 226 105 142 207 272 263  64\n",
      "  40 245 163  24 265 202 259  91 106 190 162  33 194 287 292  69 239 132\n",
      " 255 152 121 150 143 198 103 127 285 214 151 199  56  59 215 104 238 120\n",
      "  21  32 270 211 200 197  11 213  93 113 178  10 290  94 231 296  47 122\n",
      " 271 278 276  96 240 172 257 224 173 220 185  90  51 205  70 160 137 168\n",
      "  87 118 288 126 241  82 227 115 164 236 286 244 108 274 201  97  25 174\n",
      " 182 154  48  20  53  17 261  41 266  35 140 269 146 145  65 298 133 195\n",
      "  55 188  75  38  43 110  37 129 170 109 267 279 112 280  76 191  26 161\n",
      " 179 175 252  42 124 187 148 294  44 157 192 262 159 210 250  14 273 297\n",
      " 225 196]\n",
      "Response 2 \n",
      " [1 0]\n"
     ]
    }
   ],
   "source": [
    "for i in train.columns:\n",
    "    print(i,train[i].nunique(),\"\\n\",train[i].unique())"
   ]
  },
  {
   "cell_type": "code",
   "execution_count": 7,
   "metadata": {},
   "outputs": [
    {
     "name": "stdout",
     "output_type": "stream",
     "text": [
      "id 127037 \n",
      " [381110 381111 381112 ... 508144 508145 508146]\n",
      "Gender 2 \n",
      " ['Male' 'Female']\n",
      "Age 66 \n",
      " [25 40 47 24 27 22 51 42 37 64 23 55 41 26 28 21 58 44 70 71 45 46 49 38\n",
      " 35 20 30 54 61 53 50 59 62 29 36 33 65 39 32 52 60 57 67 43 69 74 56 31\n",
      " 76 66 48 63 68 34 77 73 78 72 80 79 75 82 81 84 83 85]\n",
      "Driving_License 2 \n",
      " [1 0]\n",
      "Region_Code 53 \n",
      " [11. 28. 27. 30. 37. 41. 12.  7. 46.  3. 48. 24. 10. 15.  6. 45.  8. 35.\n",
      " 33. 50. 40. 36. 21. 23. 16. 39. 29.  2. 47. 18.  4. 14. 31. 32. 44. 17.\n",
      "  5. 20.  1. 13. 25. 43. 22.  0. 38. 49. 19. 26.  9. 51. 42. 52. 34.]\n",
      "Previously_Insured 2 \n",
      " [1 0]\n",
      "Vehicle_Age 3 \n",
      " ['< 1 Year' '1-2 Year' '> 2 Years']\n",
      "Vehicle_Damage 2 \n",
      " ['No' 'Yes']\n",
      "Annual_Premium 36327 \n",
      " [35786. 33762. 40050. ... 52304. 32918. 62875.]\n",
      "Policy_Sales_Channel 145 \n",
      " [152.   7. 124.  26. 160.  24.  13. 122. 156. 151. 154.  74. 157. 158.\n",
      " 155.   1.  60.  16.  61.  25.  12.  11.  31. 163.   4.  52.   9.   3.\n",
      "  23.  59.  30.  29.  15.   8. 136. 145.  14. 120.  18. 125.  10.  55.\n",
      "  42.  82.  53. 100.  91.  21.  20.  94.  44.  22. 133. 127. 153.  36.\n",
      " 135.  47. 138. 116. 107. 118. 132.  86. 147.  37.  19.  51. 150. 121.\n",
      "  65. 111.  64.  54. 106. 139. 109.  38.  40. 113. 131. 128.  56. 119.\n",
      "  32.  81. 108. 103. 137. 126.  49.  90.  35.  66. 159. 148. 140.  93.\n",
      " 129.  96. 117. 110.  97.  98.  88. 102.  79.  17.  48. 141.  45.  80.\n",
      "  71.  33.  78.  70.  73.  89. 130.  39.  99.  57.  62.  76. 105.  43.\n",
      "  83. 134.  92.  63.  69.  46.   6. 114.  87.  95.   2. 146.  34. 123.\n",
      " 115. 142. 101. 112.  58.]\n",
      "Vintage 290 \n",
      " [ 53 111 199 187 297 266 107 232 277 133  91 254  29  22 169 270 207 141\n",
      "  35 293  78 177  73 201 153 126 230 256 113 257 288 273 246 118 291 198\n",
      " 204 249 129  67  11 272 168 217  32 105 221 140 218 260  45  16  94  60\n",
      " 110 234 244 239 255 171 163 158 192  83 224  24 193  26 235 195 209 220\n",
      " 137 271  30 268 243 130 180 226  70 283 251  49 241 275 231 242 290 280\n",
      "  85  41  93 250 146 176 135 186  55  13 188 114 160  63 175 205 123 237\n",
      "  87  80 148 200 194  18 138 233 296  68 219 211  44 117 279  57 203 173\n",
      "  52 116  33  61  62 147  90 167 212 247 143 100  21 183  12  25 208  43\n",
      " 253 161  39  59  86 125  51 112 264  76 222  50 274  47  36 122  56 265\n",
      " 210  88  98 156 227 206 298  17  82 120 119 289 115 103  96  20 149 121\n",
      "  66 202  40  15  75 166 267 136 236  31  72  42 157 151 127 214  64 108\n",
      "  95 282 223  74  77  28 284 178 101 225 285 238 106 134 240 162 269  84\n",
      " 287 164 170 299 132  58 261 189  19 229  79 281  34 292 215 174  38 182\n",
      " 154 196 131  46 295 142 139  14 181 228 128 104 213 286 152 145 184 102\n",
      " 191 216  48 263  10 185 109 278  37 190 252 179 259  65  71  99  81  27\n",
      "  89 197 258 165  92  69  23 150 159 155 124 262  97  54 245 276 294 144\n",
      " 172 248]\n"
     ]
    }
   ],
   "source": [
    "for i in test.columns:\n",
    "    print(i,test[i].nunique(),\"\\n\",test[i].unique())"
   ]
  },
  {
   "cell_type": "code",
   "execution_count": 8,
   "metadata": {},
   "outputs": [],
   "source": [
    "# Data type"
   ]
  },
  {
   "cell_type": "code",
   "execution_count": 9,
   "metadata": {},
   "outputs": [
    {
     "name": "stdout",
     "output_type": "stream",
     "text": [
      "int64      6\n",
      "float64    3\n",
      "object     3\n",
      "dtype: int64\n",
      "int64      5\n",
      "float64    3\n",
      "object     3\n",
      "dtype: int64\n"
     ]
    }
   ],
   "source": [
    "print(train.dtypes.value_counts())\n",
    "print(test.dtypes.value_counts())"
   ]
  },
  {
   "cell_type": "markdown",
   "metadata": {},
   "source": [
    "Numerical Features"
   ]
  },
  {
   "cell_type": "code",
   "execution_count": 10,
   "metadata": {},
   "outputs": [],
   "source": [
    "train_num_feat=train.select_dtypes(include=np.number)\n",
    "test_num_feat=test.select_dtypes(include=np.number)"
   ]
  },
  {
   "cell_type": "code",
   "execution_count": 11,
   "metadata": {},
   "outputs": [
    {
     "data": {
      "text/html": [
       "<div>\n",
       "<style scoped>\n",
       "    .dataframe tbody tr th:only-of-type {\n",
       "        vertical-align: middle;\n",
       "    }\n",
       "\n",
       "    .dataframe tbody tr th {\n",
       "        vertical-align: top;\n",
       "    }\n",
       "\n",
       "    .dataframe thead th {\n",
       "        text-align: right;\n",
       "    }\n",
       "</style>\n",
       "<table border=\"1\" class=\"dataframe\">\n",
       "  <thead>\n",
       "    <tr style=\"text-align: right;\">\n",
       "      <th></th>\n",
       "      <th>id</th>\n",
       "      <th>Age</th>\n",
       "      <th>Driving_License</th>\n",
       "      <th>Region_Code</th>\n",
       "      <th>Previously_Insured</th>\n",
       "      <th>Annual_Premium</th>\n",
       "      <th>Policy_Sales_Channel</th>\n",
       "      <th>Vintage</th>\n",
       "      <th>Response</th>\n",
       "    </tr>\n",
       "  </thead>\n",
       "  <tbody>\n",
       "    <tr>\n",
       "      <th>0</th>\n",
       "      <td>1</td>\n",
       "      <td>44</td>\n",
       "      <td>1</td>\n",
       "      <td>28.0</td>\n",
       "      <td>0</td>\n",
       "      <td>40454.0</td>\n",
       "      <td>26.0</td>\n",
       "      <td>217</td>\n",
       "      <td>1</td>\n",
       "    </tr>\n",
       "    <tr>\n",
       "      <th>1</th>\n",
       "      <td>2</td>\n",
       "      <td>76</td>\n",
       "      <td>1</td>\n",
       "      <td>3.0</td>\n",
       "      <td>0</td>\n",
       "      <td>33536.0</td>\n",
       "      <td>26.0</td>\n",
       "      <td>183</td>\n",
       "      <td>0</td>\n",
       "    </tr>\n",
       "    <tr>\n",
       "      <th>2</th>\n",
       "      <td>3</td>\n",
       "      <td>47</td>\n",
       "      <td>1</td>\n",
       "      <td>28.0</td>\n",
       "      <td>0</td>\n",
       "      <td>38294.0</td>\n",
       "      <td>26.0</td>\n",
       "      <td>27</td>\n",
       "      <td>1</td>\n",
       "    </tr>\n",
       "    <tr>\n",
       "      <th>3</th>\n",
       "      <td>4</td>\n",
       "      <td>21</td>\n",
       "      <td>1</td>\n",
       "      <td>11.0</td>\n",
       "      <td>1</td>\n",
       "      <td>28619.0</td>\n",
       "      <td>152.0</td>\n",
       "      <td>203</td>\n",
       "      <td>0</td>\n",
       "    </tr>\n",
       "    <tr>\n",
       "      <th>4</th>\n",
       "      <td>5</td>\n",
       "      <td>29</td>\n",
       "      <td>1</td>\n",
       "      <td>41.0</td>\n",
       "      <td>1</td>\n",
       "      <td>27496.0</td>\n",
       "      <td>152.0</td>\n",
       "      <td>39</td>\n",
       "      <td>0</td>\n",
       "    </tr>\n",
       "  </tbody>\n",
       "</table>\n",
       "</div>"
      ],
      "text/plain": [
       "   id  Age  Driving_License  Region_Code  Previously_Insured  Annual_Premium  \\\n",
       "0   1   44                1         28.0                   0         40454.0   \n",
       "1   2   76                1          3.0                   0         33536.0   \n",
       "2   3   47                1         28.0                   0         38294.0   \n",
       "3   4   21                1         11.0                   1         28619.0   \n",
       "4   5   29                1         41.0                   1         27496.0   \n",
       "\n",
       "   Policy_Sales_Channel  Vintage  Response  \n",
       "0                  26.0      217         1  \n",
       "1                  26.0      183         0  \n",
       "2                  26.0       27         1  \n",
       "3                 152.0      203         0  \n",
       "4                 152.0       39         0  "
      ]
     },
     "execution_count": 11,
     "metadata": {},
     "output_type": "execute_result"
    }
   ],
   "source": [
    "train_num_feat.head()"
   ]
  },
  {
   "cell_type": "code",
   "execution_count": 12,
   "metadata": {},
   "outputs": [
    {
     "name": "stderr",
     "output_type": "stream",
     "text": [
      "C:\\Users\\NEERAJ\\AppData\\Roaming\\Python\\Python37\\site-packages\\pandas\\core\\frame.py:4167: SettingWithCopyWarning: \n",
      "A value is trying to be set on a copy of a slice from a DataFrame\n",
      "\n",
      "See the caveats in the documentation: https://pandas.pydata.org/pandas-docs/stable/user_guide/indexing.html#returning-a-view-versus-a-copy\n",
      "  errors=errors,\n"
     ]
    }
   ],
   "source": [
    "# Drop unnessery columns\n",
    "train_num_feat.drop('id',axis=1,inplace=True)"
   ]
  },
  {
   "cell_type": "code",
   "execution_count": 13,
   "metadata": {},
   "outputs": [
    {
     "data": {
      "image/png": "[encoded data removed]",
      "text/plain": [
       "<Figure size 1440x2160 with 16 Axes>"
      ]
     },
     "metadata": {
      "needs_background": "light"
     },
     "output_type": "display_data"
    }
   ],
   "source": [
    "# Sub plots 1 sa jada graph 1 bar ma a= figer name, b= graph number [0],[1]etc\n",
    "a,b=plt.subplots(8,2,figsize=(20,30))\n",
    "sns.distplot(train_num_feat['Age'],ax=b[0,0]) # 1st cahrt ka liya\n",
    "sns.distplot(test_num_feat['Age'], ax=b[0,1])\n",
    "\n",
    "sns.countplot(train_num_feat['Driving_License'],ax=b[1,0]) # 1st cahrt ka liya\n",
    "sns.countplot(test_num_feat['Driving_License'],ax=b[1,1]) # 1st cahrt ka liya\n",
    "\n",
    "sns.distplot(train_num_feat['Region_Code'],ax=b[2,0]) # 1st cahrt ka liya\n",
    "sns.distplot(test_num_feat['Region_Code'],ax=b[2,1]) # 1st cahrt ka liya\n",
    "\n",
    "sns.countplot(train_num_feat['Previously_Insured'],ax=b[3,0]) # 1st cahrt ka liya\n",
    "sns.countplot(test_num_feat['Previously_Insured'],ax=b[3,1]) # 1st cahrt ka liya\n",
    "\n",
    "sns.distplot(train_num_feat['Annual_Premium'],ax=b[4,0]) # 1st cahrt ka liya\n",
    "sns.distplot(test_num_feat['Annual_Premium'],ax=b[4,1]) # 1st cahrt ka liya\n",
    "\n",
    "sns.distplot(train_num_feat['Policy_Sales_Channel'],ax=b[5,0]) # 1st cahrt ka liya\n",
    "sns.distplot(test_num_feat['Policy_Sales_Channel'],ax=b[5,1]) # 1st cahrt ka liya\n",
    "\n",
    "sns.distplot(train_num_feat['Vintage'],ax=b[6,0]) # 1st cahrt ka liya\n",
    "sns.distplot(test_num_feat['Vintage'],ax=b[6,1]) # 1st cahrt ka liya\n",
    "\n",
    "sns.countplot(train_num_feat['Response'],ax=b[7,0]) # 1st cahrt ka liya\n",
    "\n",
    "plt.show()"
   ]
  },
  {
   "cell_type": "code",
   "execution_count": 14,
   "metadata": {},
   "outputs": [
    {
     "data": {
      "image/png": "[encoded data removed]",
      "text/plain": [
       "<Figure size 576x576 with 2 Axes>"
      ]
     },
     "metadata": {
      "needs_background": "light"
     },
     "output_type": "display_data"
    }
   ],
   "source": [
    "plt.figure(figsize=(8,8))\n",
    "sns.heatmap(train.corr(),annot=True)\n",
    "plt.show()"
   ]
  },
  {
   "cell_type": "code",
   "execution_count": 15,
   "metadata": {},
   "outputs": [
    {
     "data": {
      "text/plain": [
       "Index(['Age', 'Driving_License', 'Region_Code', 'Previously_Insured',\n",
       "       'Annual_Premium', 'Policy_Sales_Channel', 'Vintage', 'Response'],\n",
       "      dtype='object')"
      ]
     },
     "execution_count": 15,
     "metadata": {},
     "output_type": "execute_result"
    }
   ],
   "source": [
    "train_num_feat.columns"
   ]
  },
  {
   "cell_type": "code",
   "execution_count": null,
   "metadata": {},
   "outputs": [],
   "source": []
  },
  {
   "cell_type": "code",
   "execution_count": 16,
   "metadata": {},
   "outputs": [
    {
     "data": {
      "image/png": "[encoded data removed]",
      "text/plain": [
       "<Figure size 432x288 with 1 Axes>"
      ]
     },
     "metadata": {
      "needs_background": "light"
     },
     "output_type": "display_data"
    }
   ],
   "source": [
    "sns.boxplot(train_num_feat['Age'])\n",
    "plt.show()"
   ]
  },
  {
   "cell_type": "code",
   "execution_count": 17,
   "metadata": {},
   "outputs": [
    {
     "data": {
      "image/png": "[encoded data removed]",
      "text/plain": [
       "<Figure size 1080x288 with 1 Axes>"
      ]
     },
     "metadata": {
      "needs_background": "light"
     },
     "output_type": "display_data"
    }
   ],
   "source": [
    "plt.figure(figsize=(15,4))\n",
    "sns.countplot(train['Age'],hue=train['Response'])\n",
    "plt.show()"
   ]
  },
  {
   "cell_type": "code",
   "execution_count": 18,
   "metadata": {},
   "outputs": [
    {
     "data": {
      "image/png": "[encoded data removed]",
      "text/plain": [
       "<Figure size 1080x288 with 1 Axes>"
      ]
     },
     "metadata": {
      "needs_background": "light"
     },
     "output_type": "display_data"
    }
   ],
   "source": [
    "plt.figure(figsize=(15,4))\n",
    "sns.countplot(train['Age'])\n",
    "plt.show()"
   ]
  },
  {
   "cell_type": "code",
   "execution_count": 19,
   "metadata": {},
   "outputs": [],
   "source": [
    "a=train.groupby(['Response','Age'])['Age'].count()"
   ]
  },
  {
   "cell_type": "code",
   "execution_count": 20,
   "metadata": {},
   "outputs": [
    {
     "data": {
      "text/plain": [
       "Response  Age\n",
       "1         82     1\n",
       "          83     1\n",
       "Name: Age, dtype: int64"
      ]
     },
     "execution_count": 20,
     "metadata": {},
     "output_type": "execute_result"
    }
   ],
   "source": [
    "a[a==1]"
   ]
  },
  {
   "cell_type": "code",
   "execution_count": 21,
   "metadata": {},
   "outputs": [],
   "source": [
    "a=train[train['Response']==1]"
   ]
  },
  {
   "cell_type": "code",
   "execution_count": 22,
   "metadata": {},
   "outputs": [
    {
     "data": {
      "text/plain": [
       "44    1811\n",
       "43    1805\n",
       "45    1775\n",
       "46    1707\n",
       "42    1651\n",
       "      ... \n",
       "79      60\n",
       "80      59\n",
       "81       4\n",
       "83       1\n",
       "82       1\n",
       "Name: Age, Length: 64, dtype: int64"
      ]
     },
     "execution_count": 22,
     "metadata": {},
     "output_type": "execute_result"
    }
   ],
   "source": [
    "a['Age'].value_counts()"
   ]
  },
  {
   "cell_type": "code",
   "execution_count": 23,
   "metadata": {},
   "outputs": [
    {
     "data": {
      "image/png": "[encoded data removed]",
      "text/plain": [
       "<Figure size 1080x288 with 1 Axes>"
      ]
     },
     "metadata": {
      "needs_background": "light"
     },
     "output_type": "display_data"
    }
   ],
   "source": [
    "plt.figure(figsize=(15,4))\n",
    "sns.countplot(a['Age'])\n",
    "plt.show()"
   ]
  },
  {
   "cell_type": "code",
   "execution_count": 24,
   "metadata": {},
   "outputs": [],
   "source": [
    "# train['Age_group']=train['Age'].apply(lambda x: 0 if x>51)"
   ]
  },
  {
   "cell_type": "code",
   "execution_count": 25,
   "metadata": {},
   "outputs": [
    {
     "data": {
      "text/plain": [
       "count    46710.000000\n",
       "mean        43.435560\n",
       "std         12.168924\n",
       "min         20.000000\n",
       "25%         35.000000\n",
       "50%         43.000000\n",
       "75%         51.000000\n",
       "max         83.000000\n",
       "Name: Age, dtype: float64"
      ]
     },
     "execution_count": 25,
     "metadata": {},
     "output_type": "execute_result"
    }
   ],
   "source": [
    "a['Age'].describe()"
   ]
  },
  {
   "cell_type": "code",
   "execution_count": 26,
   "metadata": {},
   "outputs": [
    {
     "data": {
      "image/png": "[encoded data removed]",
      "text/plain": [
       "<Figure size 432x288 with 1 Axes>"
      ]
     },
     "metadata": {
      "needs_background": "light"
     },
     "output_type": "display_data"
    }
   ],
   "source": [
    "sns.boxplot(a['Age'])\n",
    "plt.show()"
   ]
  },
  {
   "cell_type": "code",
   "execution_count": 27,
   "metadata": {},
   "outputs": [
    {
     "data": {
      "text/plain": [
       "24    25960\n",
       "23    24256\n",
       "22    20964\n",
       "25    20636\n",
       "21    16457\n",
       "26    13535\n",
       "27    10760\n",
       "28     8974\n",
       "43     8437\n",
       "44     8357\n",
       "45     8183\n",
       "42     8007\n",
       "46     7879\n",
       "41     7736\n",
       "29     7429\n",
       "47     7351\n",
       "40     7168\n",
       "48     7113\n",
       "49     6615\n",
       "39     6460\n",
       "50     6263\n",
       "30     6258\n",
       "20     6232\n",
       "51     5915\n",
       "38     5710\n",
       "52     5590\n",
       "31     5512\n",
       "37     5408\n",
       "53     5331\n",
       "36     5066\n",
       "33     5010\n",
       "32     4998\n",
       "54     4997\n",
       "35     4936\n",
       "34     4895\n",
       "55     4495\n",
       "56     4063\n",
       "57     3944\n",
       "58     3822\n",
       "59     3614\n",
       "60     3534\n",
       "61     3341\n",
       "62     3104\n",
       "63     3084\n",
       "64     2850\n",
       "65     2791\n",
       "66     2725\n",
       "67     2624\n",
       "69     2530\n",
       "68     2440\n",
       "70     2349\n",
       "71     2051\n",
       "72     2035\n",
       "73     1925\n",
       "74     1832\n",
       "75     1605\n",
       "76     1396\n",
       "77     1388\n",
       "78     1216\n",
       "79      915\n",
       "80      909\n",
       "81       56\n",
       "82       29\n",
       "83       22\n",
       "84       11\n",
       "85       11\n",
       "Name: Age, dtype: int64"
      ]
     },
     "execution_count": 27,
     "metadata": {},
     "output_type": "execute_result"
    }
   ],
   "source": [
    "pd.set_option(\"Display.Max_rows\",None)\n",
    "train['Age'].value_counts()"
   ]
  },
  {
   "cell_type": "code",
   "execution_count": 28,
   "metadata": {},
   "outputs": [
    {
     "data": {
      "image/png": "[encoded data removed]",
      "text/plain": [
       "<Figure size 432x288 with 1 Axes>"
      ]
     },
     "metadata": {
      "needs_background": "light"
     },
     "output_type": "display_data"
    }
   ],
   "source": [
    "sns.distplot(train_num_feat['Age'])\n",
    "plt.show()"
   ]
  },
  {
   "cell_type": "markdown",
   "metadata": {},
   "source": [
    "# categorical Features"
   ]
  },
  {
   "cell_type": "code",
   "execution_count": 29,
   "metadata": {},
   "outputs": [],
   "source": [
    "train_cat_feat=train.select_dtypes(include='O')\n",
    "test_cat_feat=test.select_dtypes(include='O')"
   ]
  },
  {
   "cell_type": "code",
   "execution_count": 30,
   "metadata": {},
   "outputs": [
    {
     "data": {
      "text/html": [
       "<div>\n",
       "<style scoped>\n",
       "    .dataframe tbody tr th:only-of-type {\n",
       "        vertical-align: middle;\n",
       "    }\n",
       "\n",
       "    .dataframe tbody tr th {\n",
       "        vertical-align: top;\n",
       "    }\n",
       "\n",
       "    .dataframe thead th {\n",
       "        text-align: right;\n",
       "    }\n",
       "</style>\n",
       "<table border=\"1\" class=\"dataframe\">\n",
       "  <thead>\n",
       "    <tr style=\"text-align: right;\">\n",
       "      <th></th>\n",
       "      <th>Gender</th>\n",
       "      <th>Vehicle_Age</th>\n",
       "      <th>Vehicle_Damage</th>\n",
       "    </tr>\n",
       "  </thead>\n",
       "  <tbody>\n",
       "    <tr>\n",
       "      <th>0</th>\n",
       "      <td>Male</td>\n",
       "      <td>&gt; 2 Years</td>\n",
       "      <td>Yes</td>\n",
       "    </tr>\n",
       "    <tr>\n",
       "      <th>1</th>\n",
       "      <td>Male</td>\n",
       "      <td>1-2 Year</td>\n",
       "      <td>No</td>\n",
       "    </tr>\n",
       "    <tr>\n",
       "      <th>2</th>\n",
       "      <td>Male</td>\n",
       "      <td>&gt; 2 Years</td>\n",
       "      <td>Yes</td>\n",
       "    </tr>\n",
       "    <tr>\n",
       "      <th>3</th>\n",
       "      <td>Male</td>\n",
       "      <td>&lt; 1 Year</td>\n",
       "      <td>No</td>\n",
       "    </tr>\n",
       "    <tr>\n",
       "      <th>4</th>\n",
       "      <td>Female</td>\n",
       "      <td>&lt; 1 Year</td>\n",
       "      <td>No</td>\n",
       "    </tr>\n",
       "  </tbody>\n",
       "</table>\n",
       "</div>"
      ],
      "text/plain": [
       "   Gender Vehicle_Age Vehicle_Damage\n",
       "0    Male   > 2 Years            Yes\n",
       "1    Male    1-2 Year             No\n",
       "2    Male   > 2 Years            Yes\n",
       "3    Male    < 1 Year             No\n",
       "4  Female    < 1 Year             No"
      ]
     },
     "execution_count": 30,
     "metadata": {},
     "output_type": "execute_result"
    }
   ],
   "source": [
    "train_cat_feat.head()"
   ]
  },
  {
   "cell_type": "code",
   "execution_count": 31,
   "metadata": {},
   "outputs": [
    {
     "name": "stderr",
     "output_type": "stream",
     "text": [
      "E:\\ANACONDA\\lib\\site-packages\\ipykernel_launcher.py:1: SettingWithCopyWarning: \n",
      "A value is trying to be set on a copy of a slice from a DataFrame.\n",
      "Try using .loc[row_indexer,col_indexer] = value instead\n",
      "\n",
      "See the caveats in the documentation: https://pandas.pydata.org/pandas-docs/stable/user_guide/indexing.html#returning-a-view-versus-a-copy\n",
      "  \"\"\"Entry point for launching an IPython kernel.\n",
      "E:\\ANACONDA\\lib\\site-packages\\ipykernel_launcher.py:2: SettingWithCopyWarning: \n",
      "A value is trying to be set on a copy of a slice from a DataFrame.\n",
      "Try using .loc[row_indexer,col_indexer] = value instead\n",
      "\n",
      "See the caveats in the documentation: https://pandas.pydata.org/pandas-docs/stable/user_guide/indexing.html#returning-a-view-versus-a-copy\n",
      "  \n"
     ]
    }
   ],
   "source": [
    "train_cat_feat['Gender'] = train_cat_feat['Gender'].map({'Male':1,'Female':0})\n",
    "test_cat_feat['Gender'] = test_cat_feat['Gender'].map({'Male':1,'Female':0})"
   ]
  },
  {
   "cell_type": "code",
   "execution_count": 32,
   "metadata": {},
   "outputs": [
    {
     "data": {
      "image/png": "[encoded data removed]",
      "text/plain": [
       "<Figure size 432x288 with 1 Axes>"
      ]
     },
     "metadata": {
      "needs_background": "light"
     },
     "output_type": "display_data"
    }
   ],
   "source": [
    "sns.countplot(train_cat_feat['Gender'])\n",
    "plt.show()"
   ]
  },
  {
   "cell_type": "code",
   "execution_count": 33,
   "metadata": {},
   "outputs": [
    {
     "data": {
      "text/html": [
       "<div>\n",
       "<style scoped>\n",
       "    .dataframe tbody tr th:only-of-type {\n",
       "        vertical-align: middle;\n",
       "    }\n",
       "\n",
       "    .dataframe tbody tr th {\n",
       "        vertical-align: top;\n",
       "    }\n",
       "\n",
       "    .dataframe thead th {\n",
       "        text-align: right;\n",
       "    }\n",
       "</style>\n",
       "<table border=\"1\" class=\"dataframe\">\n",
       "  <thead>\n",
       "    <tr style=\"text-align: right;\">\n",
       "      <th></th>\n",
       "      <th>Gender</th>\n",
       "      <th>Vehicle_Age</th>\n",
       "      <th>Vehicle_Damage</th>\n",
       "    </tr>\n",
       "  </thead>\n",
       "  <tbody>\n",
       "    <tr>\n",
       "      <th>0</th>\n",
       "      <td>1</td>\n",
       "      <td>&gt; 2 Years</td>\n",
       "      <td>Yes</td>\n",
       "    </tr>\n",
       "    <tr>\n",
       "      <th>1</th>\n",
       "      <td>1</td>\n",
       "      <td>1-2 Year</td>\n",
       "      <td>No</td>\n",
       "    </tr>\n",
       "    <tr>\n",
       "      <th>2</th>\n",
       "      <td>1</td>\n",
       "      <td>&gt; 2 Years</td>\n",
       "      <td>Yes</td>\n",
       "    </tr>\n",
       "    <tr>\n",
       "      <th>3</th>\n",
       "      <td>1</td>\n",
       "      <td>&lt; 1 Year</td>\n",
       "      <td>No</td>\n",
       "    </tr>\n",
       "    <tr>\n",
       "      <th>4</th>\n",
       "      <td>0</td>\n",
       "      <td>&lt; 1 Year</td>\n",
       "      <td>No</td>\n",
       "    </tr>\n",
       "  </tbody>\n",
       "</table>\n",
       "</div>"
      ],
      "text/plain": [
       "   Gender Vehicle_Age Vehicle_Damage\n",
       "0       1   > 2 Years            Yes\n",
       "1       1    1-2 Year             No\n",
       "2       1   > 2 Years            Yes\n",
       "3       1    < 1 Year             No\n",
       "4       0    < 1 Year             No"
      ]
     },
     "execution_count": 33,
     "metadata": {},
     "output_type": "execute_result"
    }
   ],
   "source": [
    "train_cat_feat.head()"
   ]
  },
  {
   "cell_type": "code",
   "execution_count": 34,
   "metadata": {},
   "outputs": [
    {
     "data": {
      "text/plain": [
       "1-2 Year     200316\n",
       "< 1 Year     164786\n",
       "> 2 Years     16007\n",
       "Name: Vehicle_Age, dtype: int64"
      ]
     },
     "execution_count": 34,
     "metadata": {},
     "output_type": "execute_result"
    }
   ],
   "source": [
    "train_cat_feat['Vehicle_Age'].value_counts()"
   ]
  },
  {
   "cell_type": "code",
   "execution_count": 35,
   "metadata": {},
   "outputs": [
    {
     "data": {
      "image/png": "[encoded data removed]",
      "text/plain": [
       "<Figure size 432x288 with 1 Axes>"
      ]
     },
     "metadata": {
      "needs_background": "light"
     },
     "output_type": "display_data"
    }
   ],
   "source": [
    "sns.countplot(train['Vehicle_Age'],hue=train['Response'])\n",
    "plt.show()"
   ]
  },
  {
   "cell_type": "code",
   "execution_count": 36,
   "metadata": {},
   "outputs": [
    {
     "name": "stderr",
     "output_type": "stream",
     "text": [
      "E:\\ANACONDA\\lib\\site-packages\\ipykernel_launcher.py:1: SettingWithCopyWarning: \n",
      "A value is trying to be set on a copy of a slice from a DataFrame.\n",
      "Try using .loc[row_indexer,col_indexer] = value instead\n",
      "\n",
      "See the caveats in the documentation: https://pandas.pydata.org/pandas-docs/stable/user_guide/indexing.html#returning-a-view-versus-a-copy\n",
      "  \"\"\"Entry point for launching an IPython kernel.\n",
      "E:\\ANACONDA\\lib\\site-packages\\ipykernel_launcher.py:2: SettingWithCopyWarning: \n",
      "A value is trying to be set on a copy of a slice from a DataFrame.\n",
      "Try using .loc[row_indexer,col_indexer] = value instead\n",
      "\n",
      "See the caveats in the documentation: https://pandas.pydata.org/pandas-docs/stable/user_guide/indexing.html#returning-a-view-versus-a-copy\n",
      "  \n"
     ]
    }
   ],
   "source": [
    "train_cat_feat['Vehicle_Age']=train_cat_feat['Vehicle_Age'].map({'> 2 Years':0, '< 1 Year':1, '1-2 Year':2})\n",
    "test_cat_feat['Vehicle_Age']=test_cat_feat['Vehicle_Age'].map({'> 2 Years':0, '< 1 Year':1, '1-2 Year':2})"
   ]
  },
  {
   "cell_type": "code",
   "execution_count": 37,
   "metadata": {},
   "outputs": [
    {
     "data": {
      "text/html": [
       "<div>\n",
       "<style scoped>\n",
       "    .dataframe tbody tr th:only-of-type {\n",
       "        vertical-align: middle;\n",
       "    }\n",
       "\n",
       "    .dataframe tbody tr th {\n",
       "        vertical-align: top;\n",
       "    }\n",
       "\n",
       "    .dataframe thead th {\n",
       "        text-align: right;\n",
       "    }\n",
       "</style>\n",
       "<table border=\"1\" class=\"dataframe\">\n",
       "  <thead>\n",
       "    <tr style=\"text-align: right;\">\n",
       "      <th></th>\n",
       "      <th>Gender</th>\n",
       "      <th>Vehicle_Age</th>\n",
       "      <th>Vehicle_Damage</th>\n",
       "    </tr>\n",
       "  </thead>\n",
       "  <tbody>\n",
       "    <tr>\n",
       "      <th>0</th>\n",
       "      <td>1</td>\n",
       "      <td>0</td>\n",
       "      <td>Yes</td>\n",
       "    </tr>\n",
       "    <tr>\n",
       "      <th>1</th>\n",
       "      <td>1</td>\n",
       "      <td>2</td>\n",
       "      <td>No</td>\n",
       "    </tr>\n",
       "    <tr>\n",
       "      <th>2</th>\n",
       "      <td>1</td>\n",
       "      <td>0</td>\n",
       "      <td>Yes</td>\n",
       "    </tr>\n",
       "    <tr>\n",
       "      <th>3</th>\n",
       "      <td>1</td>\n",
       "      <td>1</td>\n",
       "      <td>No</td>\n",
       "    </tr>\n",
       "    <tr>\n",
       "      <th>4</th>\n",
       "      <td>0</td>\n",
       "      <td>1</td>\n",
       "      <td>No</td>\n",
       "    </tr>\n",
       "  </tbody>\n",
       "</table>\n",
       "</div>"
      ],
      "text/plain": [
       "   Gender  Vehicle_Age Vehicle_Damage\n",
       "0       1            0            Yes\n",
       "1       1            2             No\n",
       "2       1            0            Yes\n",
       "3       1            1             No\n",
       "4       0            1             No"
      ]
     },
     "execution_count": 37,
     "metadata": {},
     "output_type": "execute_result"
    }
   ],
   "source": [
    "train_cat_feat.head()"
   ]
  },
  {
   "cell_type": "code",
   "execution_count": 38,
   "metadata": {},
   "outputs": [
    {
     "name": "stderr",
     "output_type": "stream",
     "text": [
      "E:\\ANACONDA\\lib\\site-packages\\ipykernel_launcher.py:1: SettingWithCopyWarning: \n",
      "A value is trying to be set on a copy of a slice from a DataFrame.\n",
      "Try using .loc[row_indexer,col_indexer] = value instead\n",
      "\n",
      "See the caveats in the documentation: https://pandas.pydata.org/pandas-docs/stable/user_guide/indexing.html#returning-a-view-versus-a-copy\n",
      "  \"\"\"Entry point for launching an IPython kernel.\n"
     ]
    }
   ],
   "source": [
    "train_cat_feat['Vehicle_Damage']= train_cat_feat['Vehicle_Damage']"
   ]
  },
  {
   "cell_type": "code",
   "execution_count": 39,
   "metadata": {},
   "outputs": [
    {
     "data": {
      "text/plain": [
       "<AxesSubplot:xlabel='Vehicle_Damage', ylabel='count'>"
      ]
     },
     "execution_count": 39,
     "metadata": {},
     "output_type": "execute_result"
    },
    {
     "data": {
      "image/png": "[encoded data removed]",
      "text/plain": [
       "<Figure size 432x288 with 1 Axes>"
      ]
     },
     "metadata": {
      "needs_background": "light"
     },
     "output_type": "display_data"
    }
   ],
   "source": [
    "sns.countplot(train_cat_feat['Vehicle_Damage'],hue=train['Response'])"
   ]
  },
  {
   "cell_type": "code",
   "execution_count": 40,
   "metadata": {},
   "outputs": [
    {
     "name": "stderr",
     "output_type": "stream",
     "text": [
      "E:\\ANACONDA\\lib\\site-packages\\ipykernel_launcher.py:1: SettingWithCopyWarning: \n",
      "A value is trying to be set on a copy of a slice from a DataFrame.\n",
      "Try using .loc[row_indexer,col_indexer] = value instead\n",
      "\n",
      "See the caveats in the documentation: https://pandas.pydata.org/pandas-docs/stable/user_guide/indexing.html#returning-a-view-versus-a-copy\n",
      "  \"\"\"Entry point for launching an IPython kernel.\n",
      "E:\\ANACONDA\\lib\\site-packages\\ipykernel_launcher.py:2: SettingWithCopyWarning: \n",
      "A value is trying to be set on a copy of a slice from a DataFrame.\n",
      "Try using .loc[row_indexer,col_indexer] = value instead\n",
      "\n",
      "See the caveats in the documentation: https://pandas.pydata.org/pandas-docs/stable/user_guide/indexing.html#returning-a-view-versus-a-copy\n",
      "  \n"
     ]
    }
   ],
   "source": [
    "train_cat_feat['Vehicle_Damage'] = train_cat_feat['Vehicle_Damage'].apply( lambda x: 1 if x=='Yes' else 0)\n",
    "test_cat_feat['Vehicle_Damage'] = test_cat_feat['Vehicle_Damage'].apply( lambda x: 1 if x=='Yes' else 0)"
   ]
  },
  {
   "cell_type": "code",
   "execution_count": 41,
   "metadata": {},
   "outputs": [
    {
     "data": {
      "text/html": [
       "<div>\n",
       "<style scoped>\n",
       "    .dataframe tbody tr th:only-of-type {\n",
       "        vertical-align: middle;\n",
       "    }\n",
       "\n",
       "    .dataframe tbody tr th {\n",
       "        vertical-align: top;\n",
       "    }\n",
       "\n",
       "    .dataframe thead th {\n",
       "        text-align: right;\n",
       "    }\n",
       "</style>\n",
       "<table border=\"1\" class=\"dataframe\">\n",
       "  <thead>\n",
       "    <tr style=\"text-align: right;\">\n",
       "      <th></th>\n",
       "      <th>Gender</th>\n",
       "      <th>Vehicle_Age</th>\n",
       "      <th>Vehicle_Damage</th>\n",
       "    </tr>\n",
       "  </thead>\n",
       "  <tbody>\n",
       "    <tr>\n",
       "      <th>0</th>\n",
       "      <td>1</td>\n",
       "      <td>0</td>\n",
       "      <td>1</td>\n",
       "    </tr>\n",
       "    <tr>\n",
       "      <th>1</th>\n",
       "      <td>1</td>\n",
       "      <td>2</td>\n",
       "      <td>0</td>\n",
       "    </tr>\n",
       "    <tr>\n",
       "      <th>2</th>\n",
       "      <td>1</td>\n",
       "      <td>0</td>\n",
       "      <td>1</td>\n",
       "    </tr>\n",
       "    <tr>\n",
       "      <th>3</th>\n",
       "      <td>1</td>\n",
       "      <td>1</td>\n",
       "      <td>0</td>\n",
       "    </tr>\n",
       "    <tr>\n",
       "      <th>4</th>\n",
       "      <td>0</td>\n",
       "      <td>1</td>\n",
       "      <td>0</td>\n",
       "    </tr>\n",
       "  </tbody>\n",
       "</table>\n",
       "</div>"
      ],
      "text/plain": [
       "   Gender  Vehicle_Age  Vehicle_Damage\n",
       "0       1            0               1\n",
       "1       1            2               0\n",
       "2       1            0               1\n",
       "3       1            1               0\n",
       "4       0            1               0"
      ]
     },
     "execution_count": 41,
     "metadata": {},
     "output_type": "execute_result"
    }
   ],
   "source": [
    "train_cat_feat.head()"
   ]
  },
  {
   "cell_type": "code",
   "execution_count": 42,
   "metadata": {},
   "outputs": [
    {
     "data": {
      "text/html": [
       "<div>\n",
       "<style scoped>\n",
       "    .dataframe tbody tr th:only-of-type {\n",
       "        vertical-align: middle;\n",
       "    }\n",
       "\n",
       "    .dataframe tbody tr th {\n",
       "        vertical-align: top;\n",
       "    }\n",
       "\n",
       "    .dataframe thead th {\n",
       "        text-align: right;\n",
       "    }\n",
       "</style>\n",
       "<table border=\"1\" class=\"dataframe\">\n",
       "  <thead>\n",
       "    <tr style=\"text-align: right;\">\n",
       "      <th></th>\n",
       "      <th>Gender</th>\n",
       "      <th>Vehicle_Age</th>\n",
       "      <th>Vehicle_Damage</th>\n",
       "    </tr>\n",
       "  </thead>\n",
       "  <tbody>\n",
       "    <tr>\n",
       "      <th>0</th>\n",
       "      <td>1</td>\n",
       "      <td>1</td>\n",
       "      <td>0</td>\n",
       "    </tr>\n",
       "    <tr>\n",
       "      <th>1</th>\n",
       "      <td>1</td>\n",
       "      <td>2</td>\n",
       "      <td>1</td>\n",
       "    </tr>\n",
       "    <tr>\n",
       "      <th>2</th>\n",
       "      <td>1</td>\n",
       "      <td>2</td>\n",
       "      <td>1</td>\n",
       "    </tr>\n",
       "    <tr>\n",
       "      <th>3</th>\n",
       "      <td>1</td>\n",
       "      <td>1</td>\n",
       "      <td>1</td>\n",
       "    </tr>\n",
       "    <tr>\n",
       "      <th>4</th>\n",
       "      <td>1</td>\n",
       "      <td>1</td>\n",
       "      <td>0</td>\n",
       "    </tr>\n",
       "  </tbody>\n",
       "</table>\n",
       "</div>"
      ],
      "text/plain": [
       "   Gender  Vehicle_Age  Vehicle_Damage\n",
       "0       1            1               0\n",
       "1       1            2               1\n",
       "2       1            2               1\n",
       "3       1            1               1\n",
       "4       1            1               0"
      ]
     },
     "execution_count": 42,
     "metadata": {},
     "output_type": "execute_result"
    }
   ],
   "source": [
    "test_cat_feat.head()"
   ]
  },
  {
   "cell_type": "code",
   "execution_count": 43,
   "metadata": {},
   "outputs": [
    {
     "data": {
      "text/html": [
       "<div>\n",
       "<style scoped>\n",
       "    .dataframe tbody tr th:only-of-type {\n",
       "        vertical-align: middle;\n",
       "    }\n",
       "\n",
       "    .dataframe tbody tr th {\n",
       "        vertical-align: top;\n",
       "    }\n",
       "\n",
       "    .dataframe thead th {\n",
       "        text-align: right;\n",
       "    }\n",
       "</style>\n",
       "<table border=\"1\" class=\"dataframe\">\n",
       "  <thead>\n",
       "    <tr style=\"text-align: right;\">\n",
       "      <th></th>\n",
       "      <th>id</th>\n",
       "      <th>Age</th>\n",
       "      <th>Driving_License</th>\n",
       "      <th>Region_Code</th>\n",
       "      <th>Previously_Insured</th>\n",
       "      <th>Annual_Premium</th>\n",
       "      <th>Policy_Sales_Channel</th>\n",
       "      <th>Vintage</th>\n",
       "    </tr>\n",
       "  </thead>\n",
       "  <tbody>\n",
       "    <tr>\n",
       "      <th>0</th>\n",
       "      <td>381110</td>\n",
       "      <td>25</td>\n",
       "      <td>1</td>\n",
       "      <td>11.0</td>\n",
       "      <td>1</td>\n",
       "      <td>35786.0</td>\n",
       "      <td>152.0</td>\n",
       "      <td>53</td>\n",
       "    </tr>\n",
       "    <tr>\n",
       "      <th>1</th>\n",
       "      <td>381111</td>\n",
       "      <td>40</td>\n",
       "      <td>1</td>\n",
       "      <td>28.0</td>\n",
       "      <td>0</td>\n",
       "      <td>33762.0</td>\n",
       "      <td>7.0</td>\n",
       "      <td>111</td>\n",
       "    </tr>\n",
       "    <tr>\n",
       "      <th>2</th>\n",
       "      <td>381112</td>\n",
       "      <td>47</td>\n",
       "      <td>1</td>\n",
       "      <td>28.0</td>\n",
       "      <td>0</td>\n",
       "      <td>40050.0</td>\n",
       "      <td>124.0</td>\n",
       "      <td>199</td>\n",
       "    </tr>\n",
       "    <tr>\n",
       "      <th>3</th>\n",
       "      <td>381113</td>\n",
       "      <td>24</td>\n",
       "      <td>1</td>\n",
       "      <td>27.0</td>\n",
       "      <td>1</td>\n",
       "      <td>37356.0</td>\n",
       "      <td>152.0</td>\n",
       "      <td>187</td>\n",
       "    </tr>\n",
       "    <tr>\n",
       "      <th>4</th>\n",
       "      <td>381114</td>\n",
       "      <td>27</td>\n",
       "      <td>1</td>\n",
       "      <td>28.0</td>\n",
       "      <td>1</td>\n",
       "      <td>59097.0</td>\n",
       "      <td>152.0</td>\n",
       "      <td>297</td>\n",
       "    </tr>\n",
       "  </tbody>\n",
       "</table>\n",
       "</div>"
      ],
      "text/plain": [
       "       id  Age  Driving_License  Region_Code  Previously_Insured  \\\n",
       "0  381110   25                1         11.0                   1   \n",
       "1  381111   40                1         28.0                   0   \n",
       "2  381112   47                1         28.0                   0   \n",
       "3  381113   24                1         27.0                   1   \n",
       "4  381114   27                1         28.0                   1   \n",
       "\n",
       "   Annual_Premium  Policy_Sales_Channel  Vintage  \n",
       "0         35786.0                 152.0       53  \n",
       "1         33762.0                   7.0      111  \n",
       "2         40050.0                 124.0      199  \n",
       "3         37356.0                 152.0      187  \n",
       "4         59097.0                 152.0      297  "
      ]
     },
     "execution_count": 43,
     "metadata": {},
     "output_type": "execute_result"
    }
   ],
   "source": [
    "test_num_feat.head()"
   ]
  },
  {
   "cell_type": "code",
   "execution_count": 44,
   "metadata": {},
   "outputs": [
    {
     "name": "stderr",
     "output_type": "stream",
     "text": [
      "C:\\Users\\NEERAJ\\AppData\\Roaming\\Python\\Python37\\site-packages\\pandas\\core\\frame.py:4167: SettingWithCopyWarning: \n",
      "A value is trying to be set on a copy of a slice from a DataFrame\n",
      "\n",
      "See the caveats in the documentation: https://pandas.pydata.org/pandas-docs/stable/user_guide/indexing.html#returning-a-view-versus-a-copy\n",
      "  errors=errors,\n"
     ]
    }
   ],
   "source": [
    "test_num_feat.drop('id',axis=1,inplace=True)"
   ]
  },
  {
   "cell_type": "code",
   "execution_count": 45,
   "metadata": {},
   "outputs": [],
   "source": [
    "# combine numerical and categorical features"
   ]
  },
  {
   "cell_type": "code",
   "execution_count": 46,
   "metadata": {},
   "outputs": [],
   "source": [
    "final_train= pd.concat([train_num_feat.reset_index(drop=True),train_cat_feat],axis=1)\n",
    "final_test= pd.concat([test_num_feat.reset_index(drop=True),test_cat_feat],axis=1)"
   ]
  },
  {
   "cell_type": "code",
   "execution_count": 47,
   "metadata": {},
   "outputs": [
    {
     "data": {
      "text/html": [
       "<div>\n",
       "<style scoped>\n",
       "    .dataframe tbody tr th:only-of-type {\n",
       "        vertical-align: middle;\n",
       "    }\n",
       "\n",
       "    .dataframe tbody tr th {\n",
       "        vertical-align: top;\n",
       "    }\n",
       "\n",
       "    .dataframe thead th {\n",
       "        text-align: right;\n",
       "    }\n",
       "</style>\n",
       "<table border=\"1\" class=\"dataframe\">\n",
       "  <thead>\n",
       "    <tr style=\"text-align: right;\">\n",
       "      <th></th>\n",
       "      <th>Age</th>\n",
       "      <th>Driving_License</th>\n",
       "      <th>Region_Code</th>\n",
       "      <th>Previously_Insured</th>\n",
       "      <th>Annual_Premium</th>\n",
       "      <th>Policy_Sales_Channel</th>\n",
       "      <th>Vintage</th>\n",
       "      <th>Response</th>\n",
       "      <th>Gender</th>\n",
       "      <th>Vehicle_Age</th>\n",
       "      <th>Vehicle_Damage</th>\n",
       "    </tr>\n",
       "  </thead>\n",
       "  <tbody>\n",
       "    <tr>\n",
       "      <th>0</th>\n",
       "      <td>44</td>\n",
       "      <td>1</td>\n",
       "      <td>28.0</td>\n",
       "      <td>0</td>\n",
       "      <td>40454.0</td>\n",
       "      <td>26.0</td>\n",
       "      <td>217</td>\n",
       "      <td>1</td>\n",
       "      <td>1</td>\n",
       "      <td>0</td>\n",
       "      <td>1</td>\n",
       "    </tr>\n",
       "    <tr>\n",
       "      <th>1</th>\n",
       "      <td>76</td>\n",
       "      <td>1</td>\n",
       "      <td>3.0</td>\n",
       "      <td>0</td>\n",
       "      <td>33536.0</td>\n",
       "      <td>26.0</td>\n",
       "      <td>183</td>\n",
       "      <td>0</td>\n",
       "      <td>1</td>\n",
       "      <td>2</td>\n",
       "      <td>0</td>\n",
       "    </tr>\n",
       "    <tr>\n",
       "      <th>2</th>\n",
       "      <td>47</td>\n",
       "      <td>1</td>\n",
       "      <td>28.0</td>\n",
       "      <td>0</td>\n",
       "      <td>38294.0</td>\n",
       "      <td>26.0</td>\n",
       "      <td>27</td>\n",
       "      <td>1</td>\n",
       "      <td>1</td>\n",
       "      <td>0</td>\n",
       "      <td>1</td>\n",
       "    </tr>\n",
       "    <tr>\n",
       "      <th>3</th>\n",
       "      <td>21</td>\n",
       "      <td>1</td>\n",
       "      <td>11.0</td>\n",
       "      <td>1</td>\n",
       "      <td>28619.0</td>\n",
       "      <td>152.0</td>\n",
       "      <td>203</td>\n",
       "      <td>0</td>\n",
       "      <td>1</td>\n",
       "      <td>1</td>\n",
       "      <td>0</td>\n",
       "    </tr>\n",
       "    <tr>\n",
       "      <th>4</th>\n",
       "      <td>29</td>\n",
       "      <td>1</td>\n",
       "      <td>41.0</td>\n",
       "      <td>1</td>\n",
       "      <td>27496.0</td>\n",
       "      <td>152.0</td>\n",
       "      <td>39</td>\n",
       "      <td>0</td>\n",
       "      <td>0</td>\n",
       "      <td>1</td>\n",
       "      <td>0</td>\n",
       "    </tr>\n",
       "  </tbody>\n",
       "</table>\n",
       "</div>"
      ],
      "text/plain": [
       "   Age  Driving_License  Region_Code  Previously_Insured  Annual_Premium  \\\n",
       "0   44                1         28.0                   0         40454.0   \n",
       "1   76                1          3.0                   0         33536.0   \n",
       "2   47                1         28.0                   0         38294.0   \n",
       "3   21                1         11.0                   1         28619.0   \n",
       "4   29                1         41.0                   1         27496.0   \n",
       "\n",
       "   Policy_Sales_Channel  Vintage  Response  Gender  Vehicle_Age  \\\n",
       "0                  26.0      217         1       1            0   \n",
       "1                  26.0      183         0       1            2   \n",
       "2                  26.0       27         1       1            0   \n",
       "3                 152.0      203         0       1            1   \n",
       "4                 152.0       39         0       0            1   \n",
       "\n",
       "   Vehicle_Damage  \n",
       "0               1  \n",
       "1               0  \n",
       "2               1  \n",
       "3               0  \n",
       "4               0  "
      ]
     },
     "execution_count": 47,
     "metadata": {},
     "output_type": "execute_result"
    }
   ],
   "source": [
    "final_train.head()"
   ]
  },
  {
   "cell_type": "code",
   "execution_count": 48,
   "metadata": {},
   "outputs": [
    {
     "data": {
      "text/html": [
       "<div>\n",
       "<style scoped>\n",
       "    .dataframe tbody tr th:only-of-type {\n",
       "        vertical-align: middle;\n",
       "    }\n",
       "\n",
       "    .dataframe tbody tr th {\n",
       "        vertical-align: top;\n",
       "    }\n",
       "\n",
       "    .dataframe thead th {\n",
       "        text-align: right;\n",
       "    }\n",
       "</style>\n",
       "<table border=\"1\" class=\"dataframe\">\n",
       "  <thead>\n",
       "    <tr style=\"text-align: right;\">\n",
       "      <th></th>\n",
       "      <th>Age</th>\n",
       "      <th>Driving_License</th>\n",
       "      <th>Region_Code</th>\n",
       "      <th>Previously_Insured</th>\n",
       "      <th>Annual_Premium</th>\n",
       "      <th>Policy_Sales_Channel</th>\n",
       "      <th>Vintage</th>\n",
       "      <th>Gender</th>\n",
       "      <th>Vehicle_Age</th>\n",
       "      <th>Vehicle_Damage</th>\n",
       "    </tr>\n",
       "  </thead>\n",
       "  <tbody>\n",
       "    <tr>\n",
       "      <th>0</th>\n",
       "      <td>25</td>\n",
       "      <td>1</td>\n",
       "      <td>11.0</td>\n",
       "      <td>1</td>\n",
       "      <td>35786.0</td>\n",
       "      <td>152.0</td>\n",
       "      <td>53</td>\n",
       "      <td>1</td>\n",
       "      <td>1</td>\n",
       "      <td>0</td>\n",
       "    </tr>\n",
       "    <tr>\n",
       "      <th>1</th>\n",
       "      <td>40</td>\n",
       "      <td>1</td>\n",
       "      <td>28.0</td>\n",
       "      <td>0</td>\n",
       "      <td>33762.0</td>\n",
       "      <td>7.0</td>\n",
       "      <td>111</td>\n",
       "      <td>1</td>\n",
       "      <td>2</td>\n",
       "      <td>1</td>\n",
       "    </tr>\n",
       "    <tr>\n",
       "      <th>2</th>\n",
       "      <td>47</td>\n",
       "      <td>1</td>\n",
       "      <td>28.0</td>\n",
       "      <td>0</td>\n",
       "      <td>40050.0</td>\n",
       "      <td>124.0</td>\n",
       "      <td>199</td>\n",
       "      <td>1</td>\n",
       "      <td>2</td>\n",
       "      <td>1</td>\n",
       "    </tr>\n",
       "    <tr>\n",
       "      <th>3</th>\n",
       "      <td>24</td>\n",
       "      <td>1</td>\n",
       "      <td>27.0</td>\n",
       "      <td>1</td>\n",
       "      <td>37356.0</td>\n",
       "      <td>152.0</td>\n",
       "      <td>187</td>\n",
       "      <td>1</td>\n",
       "      <td>1</td>\n",
       "      <td>1</td>\n",
       "    </tr>\n",
       "    <tr>\n",
       "      <th>4</th>\n",
       "      <td>27</td>\n",
       "      <td>1</td>\n",
       "      <td>28.0</td>\n",
       "      <td>1</td>\n",
       "      <td>59097.0</td>\n",
       "      <td>152.0</td>\n",
       "      <td>297</td>\n",
       "      <td>1</td>\n",
       "      <td>1</td>\n",
       "      <td>0</td>\n",
       "    </tr>\n",
       "  </tbody>\n",
       "</table>\n",
       "</div>"
      ],
      "text/plain": [
       "   Age  Driving_License  Region_Code  Previously_Insured  Annual_Premium  \\\n",
       "0   25                1         11.0                   1         35786.0   \n",
       "1   40                1         28.0                   0         33762.0   \n",
       "2   47                1         28.0                   0         40050.0   \n",
       "3   24                1         27.0                   1         37356.0   \n",
       "4   27                1         28.0                   1         59097.0   \n",
       "\n",
       "   Policy_Sales_Channel  Vintage  Gender  Vehicle_Age  Vehicle_Damage  \n",
       "0                 152.0       53       1            1               0  \n",
       "1                   7.0      111       1            2               1  \n",
       "2                 124.0      199       1            2               1  \n",
       "3                 152.0      187       1            1               1  \n",
       "4                 152.0      297       1            1               0  "
      ]
     },
     "execution_count": 48,
     "metadata": {},
     "output_type": "execute_result"
    }
   ],
   "source": [
    "final_test.head()"
   ]
  },
  {
   "cell_type": "markdown",
   "metadata": {},
   "source": [
    "# Scaling"
   ]
  },
  {
   "cell_type": "code",
   "execution_count": 49,
   "metadata": {},
   "outputs": [],
   "source": [
    "from sklearn.preprocessing import StandardScaler"
   ]
  },
  {
   "cell_type": "code",
   "execution_count": 50,
   "metadata": {},
   "outputs": [],
   "source": [
    "X= final_train.drop('Response',axis=1)\n",
    "y=final_train['Response']\n",
    "\n",
    "\n",
    "scaler=StandardScaler()\n",
    "X=scaler.fit_transform(X)\n",
    "test_scaled= scaler.transform(final_test)"
   ]
  },
  {
   "cell_type": "markdown",
   "metadata": {},
   "source": [
    "# train test split"
   ]
  },
  {
   "cell_type": "code",
   "execution_count": 51,
   "metadata": {},
   "outputs": [],
   "source": [
    "from sklearn.model_selection import train_test_split"
   ]
  },
  {
   "cell_type": "code",
   "execution_count": 52,
   "metadata": {},
   "outputs": [],
   "source": [
    "X_train, X_test, y_train, y_test = train_test_split(X, y, test_size=0.33, random_state=42)"
   ]
  },
  {
   "cell_type": "markdown",
   "metadata": {},
   "source": [
    "# Modeling"
   ]
  },
  {
   "cell_type": "markdown",
   "metadata": {},
   "source": [
    "# Logistic Regression"
   ]
  },
  {
   "cell_type": "code",
   "execution_count": 53,
   "metadata": {},
   "outputs": [],
   "source": [
    "from sklearn.linear_model import LogisticRegression\n",
    "from sklearn.metrics import roc_auc_score"
   ]
  },
  {
   "cell_type": "code",
   "execution_count": 56,
   "metadata": {},
   "outputs": [
    {
     "name": "stdout",
     "output_type": "stream",
     "text": [
      "AUC of train: 0.8190546589579435\n",
      "AUC of test: 0.8226722045687604\n"
     ]
    }
   ],
   "source": [
    "lr=LogisticRegression(random_state=1)\n",
    "\n",
    "lr.fit(X_train,y_train)\n",
    "\n",
    "y_train_pred=lr.predict(X_train)\n",
    "y_train_prob=lr.predict_proba(X_train)[:,1]\n",
    "\n",
    "y_test_pred=lr.predict(X_test)\n",
    "y_test_prob=lr.predict_proba(X_test)[:,1]\n",
    "\n",
    "\n",
    "lr_train_score=roc_auc_score(y_train,y_train_prob)\n",
    "print(\"AUC of train:\",roc_auc_score(y_train,y_train_prob))\n",
    "\n",
    "dt_test_score= roc_auc_score(y_test,y_test_prob)\n",
    "print(\"AUC of test:\",roc_auc_score(y_test,y_test_prob))"
   ]
  },
  {
   "cell_type": "code",
   "execution_count": 56,
   "metadata": {},
   "outputs": [],
   "source": [
    "from sklearn.model_selection import cross_val_score,StratifiedKFold,KFold"
   ]
  },
  {
   "cell_type": "code",
   "execution_count": 58,
   "metadata": {},
   "outputs": [
    {
     "name": "stdout",
     "output_type": "stream",
     "text": [
      "Score:  [0.81561752 0.81666868 0.82401124 0.82084801 0.81977828 0.82067585\n",
      " 0.81647047 0.82170061 0.8133436  0.81573324]\n",
      "\n",
      "\n",
      "f1_score: 0.82 (+/- 0.01)\n"
     ]
    }
   ],
   "source": [
    "# Cross-val score of train data using Logistic Regression model\n",
    "logreg = LogisticRegression(class_weight='balanced',n_jobs=-1,random_state=9)\n",
    "\n",
    "fold=KFold(n_splits=10,shuffle=True,random_state=9)\n",
    "logreg_score=cross_val_score(logreg,X_train, y_train,scoring='roc_auc',cv=fold,n_jobs=-1)\n",
    "\n",
    "print('Score: ',logreg_score)\n",
    "\n",
    "print('\\n')\n",
    "\n",
    "print(\"f1_score: %0.2f (+/- %0.2f)\" % (logreg_score.mean(), logreg_score.std() * 2))"
   ]
  },
  {
   "cell_type": "code",
   "execution_count": 59,
   "metadata": {},
   "outputs": [
    {
     "name": "stdout",
     "output_type": "stream",
     "text": [
      "Score:  [0.81508821 0.8200533  0.81856151 0.82221193 0.81782021 0.82064662\n",
      " 0.82029806 0.82129782 0.82002129 0.82303091]\n",
      "\n",
      "\n",
      "f1_score: 0.82 (+/- 0.00)\n"
     ]
    }
   ],
   "source": [
    "lr=LogisticRegression(random_state=1,class_weight='balanced',n_jobs=-1)\n",
    "\n",
    "cv=StratifiedKFold(n_splits=10,shuffle=True,random_state=1)\n",
    "scores = cross_val_score(lr, X, y, cv=cv,scoring='roc_auc',n_jobs=-1)\n",
    "\n",
    "print('Score: ',scores)\n",
    "\n",
    "print('\\n')\n",
    "\n",
    "print(\"f1_score: %0.2f (+/- %0.2f)\" % (scores.mean(), scores.std() * 2))"
   ]
  },
  {
   "cell_type": "code",
   "execution_count": 71,
   "metadata": {},
   "outputs": [
    {
     "data": {
      "text/html": [
       "<div>\n",
       "<style scoped>\n",
       "    .dataframe tbody tr th:only-of-type {\n",
       "        vertical-align: middle;\n",
       "    }\n",
       "\n",
       "    .dataframe tbody tr th {\n",
       "        vertical-align: top;\n",
       "    }\n",
       "\n",
       "    .dataframe thead th {\n",
       "        text-align: right;\n",
       "    }\n",
       "</style>\n",
       "<table border=\"1\" class=\"dataframe\">\n",
       "  <thead>\n",
       "    <tr style=\"text-align: right;\">\n",
       "      <th></th>\n",
       "      <th>id</th>\n",
       "      <th>Response</th>\n",
       "    </tr>\n",
       "  </thead>\n",
       "  <tbody>\n",
       "    <tr>\n",
       "      <th>0</th>\n",
       "      <td>381110</td>\n",
       "      <td>0</td>\n",
       "    </tr>\n",
       "    <tr>\n",
       "      <th>1</th>\n",
       "      <td>381111</td>\n",
       "      <td>1</td>\n",
       "    </tr>\n",
       "    <tr>\n",
       "      <th>2</th>\n",
       "      <td>381112</td>\n",
       "      <td>1</td>\n",
       "    </tr>\n",
       "    <tr>\n",
       "      <th>3</th>\n",
       "      <td>381113</td>\n",
       "      <td>0</td>\n",
       "    </tr>\n",
       "    <tr>\n",
       "      <th>4</th>\n",
       "      <td>381114</td>\n",
       "      <td>0</td>\n",
       "    </tr>\n",
       "  </tbody>\n",
       "</table>\n",
       "</div>"
      ],
      "text/plain": [
       "       id  Response\n",
       "0  381110         0\n",
       "1  381111         1\n",
       "2  381112         1\n",
       "3  381113         0\n",
       "4  381114         0"
      ]
     },
     "execution_count": 71,
     "metadata": {},
     "output_type": "execute_result"
    }
   ],
   "source": [
    "lr=LogisticRegression(random_state=1,class_weight='balanced',n_jobs=-1)\n",
    "lr.fit(X,y)\n",
    "y_pred = lr.predict(test_scaled)\n",
    "\n",
    "col=['id','Response']\n",
    "submit_test = pd.concat([test['id'],pd.DataFrame(y_pred)], axis=1)\n",
    "submit_test.columns=col\n",
    "submit_test.to_csv('sample_submission.csv', index=False)\n",
    "submit_test.head()"
   ]
  },
  {
   "cell_type": "markdown",
   "metadata": {},
   "source": [
    "# Decision Tree"
   ]
  },
  {
   "cell_type": "code",
   "execution_count": 60,
   "metadata": {},
   "outputs": [],
   "source": [
    "from sklearn.tree import DecisionTreeClassifier"
   ]
  },
  {
   "cell_type": "code",
   "execution_count": 61,
   "metadata": {},
   "outputs": [
    {
     "name": "stdout",
     "output_type": "stream",
     "text": [
      "AUC of train: 0.9999999653904854\n",
      "AUC of test: 0.5999613839282901\n"
     ]
    }
   ],
   "source": [
    "dt= DecisionTreeClassifier(random_state=1)\n",
    "dt.fit(X_train,y_train)\n",
    "\n",
    "y_train_pred=dt.predict(X_train)\n",
    "y_train_prob=dt.predict_proba(X_train)[:,1]\n",
    "\n",
    "y_test_pred=dt.predict(X_test)\n",
    "y_test_prob=dt.predict_proba(X_test)[:,1]\n",
    "\n",
    "\n",
    "lr_train_score=roc_auc_score(y_train,y_train_prob)\n",
    "print(\"AUC of train:\",roc_auc_score(y_train,y_train_prob))\n",
    "\n",
    "dt_test_score= roc_auc_score(y_test,y_test_prob)\n",
    "print(\"AUC of test:\",roc_auc_score(y_test,y_test_prob))"
   ]
  },
  {
   "cell_type": "code",
   "execution_count": 62,
   "metadata": {},
   "outputs": [
    {
     "name": "stdout",
     "output_type": "stream",
     "text": [
      "AUC of train: 0.9999999653904854\n",
      "AUC of test: 0.5941452842203999\n"
     ]
    }
   ],
   "source": [
    "dt= DecisionTreeClassifier(random_state=1,class_weight='balanced')\n",
    "dt.fit(X_train,y_train)\n",
    "\n",
    "y_train_pred=dt.predict(X_train)\n",
    "y_train_prob=dt.predict_proba(X_train)[:,1]\n",
    "\n",
    "y_test_pred=dt.predict(X_test)\n",
    "y_test_prob=dt.predict_proba(X_test)[:,1]\n",
    "\n",
    "\n",
    "lr_train_score=roc_auc_score(y_train,y_train_prob)\n",
    "print(\"AUC of train:\",roc_auc_score(y_train,y_train_prob))\n",
    "\n",
    "dt_test_score= roc_auc_score(y_test,y_test_prob)\n",
    "print(\"AUC of test:\",roc_auc_score(y_test,y_test_prob))"
   ]
  },
  {
   "cell_type": "code",
   "execution_count": 63,
   "metadata": {},
   "outputs": [
    {
     "name": "stdout",
     "output_type": "stream",
     "text": [
      "Score:  [0.58996076 0.59199247 0.59611917 0.5901829  0.59416368 0.58889475\n",
      " 0.59793333 0.59750757 0.59219046 0.59382147]\n",
      "\n",
      "\n",
      "f1_score: 0.59 (+/- 0.01)\n"
     ]
    }
   ],
   "source": [
    "dt=DecisionTreeClassifier(random_state=1,class_weight='balanced')\n",
    "\n",
    "cv=StratifiedKFold(n_splits=10,shuffle=True,random_state=1)\n",
    "scores = cross_val_score(dt, X_train, y_train, cv=cv,scoring='roc_auc',n_jobs=-1)\n",
    "\n",
    "print('Score: ',scores)\n",
    "\n",
    "print('\\n')\n",
    "\n",
    "print(\"f1_score: %0.2f (+/- %0.2f)\" % (scores.mean(), scores.std() * 2))"
   ]
  },
  {
   "cell_type": "markdown",
   "metadata": {},
   "source": [
    "# Random Forest"
   ]
  },
  {
   "cell_type": "code",
   "execution_count": 64,
   "metadata": {},
   "outputs": [],
   "source": [
    "from sklearn.ensemble import RandomForestClassifier"
   ]
  },
  {
   "cell_type": "code",
   "execution_count": 78,
   "metadata": {},
   "outputs": [
    {
     "name": "stdout",
     "output_type": "stream",
     "text": [
      "AUC of train: 0.9999999322111162\n",
      "AUC of test: 0.8366070666987386\n"
     ]
    }
   ],
   "source": [
    "rf=RandomForestClassifier(random_state=1)\n",
    "rf.fit(X_train,y_train)\n",
    "\n",
    "y_train_pred=rf.predict(X_train)\n",
    "y_train_prob=rf.predict_proba(X_train)[:,1]\n",
    "\n",
    "y_test_pred=rf.predict(X_test)\n",
    "y_test_prob=rf.predict_proba(X_test)[:,1]\n",
    "\n",
    "\n",
    "lr_train_score=roc_auc_score(y_train,y_train_prob)\n",
    "print(\"AUC of train:\",roc_auc_score(y_train,y_train_prob))\n",
    "\n",
    "dt_test_score= roc_auc_score(y_test,y_test_prob)\n",
    "print(\"AUC of test:\",roc_auc_score(y_test,y_test_prob))"
   ]
  },
  {
   "cell_type": "code",
   "execution_count": 81,
   "metadata": {},
   "outputs": [
    {
     "name": "stdout",
     "output_type": "stream",
     "text": [
      "AUC of train: 0.9999941379777174\n",
      "AUC of test: 0.8354576451139076\n"
     ]
    }
   ],
   "source": [
    "rf=RandomForestClassifier(random_state=1,class_weight='balanced')\n",
    "rf.fit(X_train,y_train)\n",
    "\n",
    "y_train_pred=rf.predict(X_train)\n",
    "y_train_prob=rf.predict_proba(X_train)[:,1]\n",
    "\n",
    "y_test_pred=rf.predict(X_test)\n",
    "y_test_prob=rf.predict_proba(X_test)[:,1]\n",
    "\n",
    "\n",
    "lr_train_score=roc_auc_score(y_train,y_train_prob)\n",
    "print(\"AUC of train:\",roc_auc_score(y_train,y_train_prob))\n",
    "\n",
    "dt_test_score= roc_auc_score(y_test,y_test_prob)\n",
    "print(\"AUC of test:\",roc_auc_score(y_test,y_test_prob))"
   ]
  },
  {
   "cell_type": "code",
   "execution_count": 79,
   "metadata": {},
   "outputs": [
    {
     "name": "stdout",
     "output_type": "stream",
     "text": [
      "Score:  [0.83424579 0.83149621 0.83343109 0.82934145 0.83119631 0.8328208\n",
      " 0.8342886  0.832551   0.83196482 0.83229496]\n",
      "\n",
      "\n",
      "f1_score: 0.83 (+/- 0.00)\n"
     ]
    }
   ],
   "source": [
    "rf=RandomForestClassifier(random_state=1,class_weight='balanced')\n",
    "\n",
    "cv=StratifiedKFold(n_splits=10,shuffle=True,random_state=1)\n",
    "scores = cross_val_score(rf, X_train, y_train, cv=cv,scoring='roc_auc',n_jobs=-1)\n",
    "\n",
    "print('Score: ',scores)\n",
    "\n",
    "print('\\n')\n",
    "\n",
    "print(\"f1_score: %0.2f (+/- %0.2f)\" % (scores.mean(), scores.std() * 2))"
   ]
  },
  {
   "cell_type": "code",
   "execution_count": 82,
   "metadata": {},
   "outputs": [
    {
     "data": {
      "text/html": [
       "<div>\n",
       "<style scoped>\n",
       "    .dataframe tbody tr th:only-of-type {\n",
       "        vertical-align: middle;\n",
       "    }\n",
       "\n",
       "    .dataframe tbody tr th {\n",
       "        vertical-align: top;\n",
       "    }\n",
       "\n",
       "    .dataframe thead th {\n",
       "        text-align: right;\n",
       "    }\n",
       "</style>\n",
       "<table border=\"1\" class=\"dataframe\">\n",
       "  <thead>\n",
       "    <tr style=\"text-align: right;\">\n",
       "      <th></th>\n",
       "      <th>id</th>\n",
       "      <th>Response</th>\n",
       "    </tr>\n",
       "  </thead>\n",
       "  <tbody>\n",
       "    <tr>\n",
       "      <th>0</th>\n",
       "      <td>381110</td>\n",
       "      <td>0</td>\n",
       "    </tr>\n",
       "    <tr>\n",
       "      <th>1</th>\n",
       "      <td>381111</td>\n",
       "      <td>0</td>\n",
       "    </tr>\n",
       "    <tr>\n",
       "      <th>2</th>\n",
       "      <td>381112</td>\n",
       "      <td>0</td>\n",
       "    </tr>\n",
       "    <tr>\n",
       "      <th>3</th>\n",
       "      <td>381113</td>\n",
       "      <td>0</td>\n",
       "    </tr>\n",
       "    <tr>\n",
       "      <th>4</th>\n",
       "      <td>381114</td>\n",
       "      <td>0</td>\n",
       "    </tr>\n",
       "  </tbody>\n",
       "</table>\n",
       "</div>"
      ],
      "text/plain": [
       "       id  Response\n",
       "0  381110         0\n",
       "1  381111         0\n",
       "2  381112         0\n",
       "3  381113         0\n",
       "4  381114         0"
      ]
     },
     "execution_count": 82,
     "metadata": {},
     "output_type": "execute_result"
    }
   ],
   "source": [
    "rf=RandomForestClassifier(random_state=1)\n",
    "rf.fit(X,y)\n",
    "y_pred = rf.predict(test_scaled)\n",
    "\n",
    "col=['id','Response']\n",
    "submit_test = pd.concat([test['id'],pd.DataFrame(y_pred)], axis=1)\n",
    "submit_test.columns=col\n",
    "submit_test.to_csv('sample_submission.csv', index=False)\n",
    "submit_test.head()"
   ]
  },
  {
   "cell_type": "code",
   "execution_count": 65,
   "metadata": {},
   "outputs": [
    {
     "name": "stdout",
     "output_type": "stream",
     "text": [
      "{'n_estimators': [50, 54, 59, 63, 68, 72, 77, 81, 86, 90, 95, 100, 104, 109, 113, 118, 122, 127, 131, 136, 140, 145, 150, 154, 159, 163, 168, 172, 177, 181, 186, 190, 195, 200, 204, 209, 213, 218, 222, 227, 231, 236, 240, 245, 250, 254, 259, 263, 268, 272, 277, 281, 286, 290, 295, 300, 304, 309, 313, 318, 322, 327, 331, 336, 340, 345, 350, 354, 359, 363, 368, 372, 377, 381, 386, 390, 395, 400, 404, 409, 413, 418, 422, 427, 431, 436, 440, 445, 450, 454, 459, 463, 468, 472, 477, 481, 486, 490, 495, 500], 'max_features': ['auto', 'sqrt'], 'max_depth': array([ 1,  3,  5,  7,  9, 11, 13, 15, 17, 19, 21, 23, 25, 27, 29, 31, 33,\n",
      "       35, 37, 39, 41, 43, 45, 47, 49, 51, 53, 55, 57, 59]), 'min_samples_split': [2, 5, 10], 'min_samples_leaf': [1, 2, 4], 'bootstrap': [True, False], 'class_weight': [None, 'balanced']}\n"
     ]
    }
   ],
   "source": [
    "from sklearn.model_selection import RandomizedSearchCV\n",
    "# Number of trees in random forest\n",
    "n_estimators = [int(x) for x in np.linspace(start = 50, stop = 500, num = 100)]\n",
    "# Number of features to consider at every split\n",
    "max_features = ['auto', 'sqrt']\n",
    "# Maximum number of levels in tree\n",
    "#max_depth = [int(x) for x in np.linspace(1, 70, num = 11)]\n",
    "max_depth=np.arange(1,61,2)\n",
    "\n",
    "# Minimum number of samples required to split a node\n",
    "min_samples_split = [2, 5, 10]\n",
    "# Minimum number of samples required at each leaf node\n",
    "min_samples_leaf = [1, 2, 4]\n",
    "# Method of selecting samples for training each tree\n",
    "bootstrap = [True, False]\n",
    "# Create the random grid\n",
    "random_grid = {'n_estimators': n_estimators,\n",
    "               'max_features': max_features,\n",
    "               'max_depth': max_depth,\n",
    "               'min_samples_split': min_samples_split,\n",
    "               'min_samples_leaf': min_samples_leaf,\n",
    "               'bootstrap': bootstrap,\n",
    "                'class_weight':[None,'balanced']}\n",
    "print(random_grid)"
   ]
  },
  {
   "cell_type": "code",
   "execution_count": 66,
   "metadata": {},
   "outputs": [
    {
     "name": "stdout",
     "output_type": "stream",
     "text": [
      "{'n_estimators': 409, 'min_samples_split': 5, 'min_samples_leaf': 1, 'max_features': 'sqrt', 'max_depth': 13, 'class_weight': None, 'bootstrap': False}\n"
     ]
    }
   ],
   "source": [
    "# Use the random grid to search for best hyperparameters\n",
    "# First create the base model to tune\n",
    "rf = RandomForestClassifier(random_state=1)\n",
    "# Random search of parameters, using 3 fold cross validation, \n",
    "# search across 100 different combinations, and use all available cores\n",
    "cv=StratifiedKFold(n_splits=3,shuffle=True,random_state=1)\n",
    "rf_random = RandomizedSearchCV(estimator = rf, param_distributions = random_grid, n_iter = 10, cv = cv, random_state=42, n_jobs = -1)\n",
    "# Fit the random search model\n",
    "rf_random.fit(X_train, y_train)\n",
    "\n",
    "print(rf_random.best_params_)"
   ]
  },
  {
   "cell_type": "code",
   "execution_count": 67,
   "metadata": {},
   "outputs": [
    {
     "name": "stdout",
     "output_type": "stream",
     "text": [
      "AUC of train: 0.88451167839862\n",
      "AUC of test: 0.8573630066217549\n"
     ]
    }
   ],
   "source": [
    "rf=RandomForestClassifier(random_state=1,n_estimators= 409, min_samples_split= 5, min_samples_leaf= 1, max_features= 'sqrt',\n",
    "                          max_depth= 13, class_weight= None, bootstrap= False)\n",
    "rf.fit(X_train,y_train)\n",
    "\n",
    "y_train_pred=rf.predict(X_train)\n",
    "y_train_prob=rf.predict_proba(X_train)[:,1]\n",
    "\n",
    "y_test_pred=rf.predict(X_test)\n",
    "y_test_prob=rf.predict_proba(X_test)[:,1]\n",
    "\n",
    "\n",
    "lr_train_score=roc_auc_score(y_train,y_train_prob)\n",
    "print(\"AUC of train:\",roc_auc_score(y_train,y_train_prob))\n",
    "\n",
    "dt_test_score= roc_auc_score(y_test,y_test_prob)\n",
    "print(\"AUC of test:\",roc_auc_score(y_test,y_test_prob))"
   ]
  },
  {
   "cell_type": "code",
   "execution_count": 68,
   "metadata": {},
   "outputs": [
    {
     "data": {
      "text/html": [
       "<div>\n",
       "<style scoped>\n",
       "    .dataframe tbody tr th:only-of-type {\n",
       "        vertical-align: middle;\n",
       "    }\n",
       "\n",
       "    .dataframe tbody tr th {\n",
       "        vertical-align: top;\n",
       "    }\n",
       "\n",
       "    .dataframe thead th {\n",
       "        text-align: right;\n",
       "    }\n",
       "</style>\n",
       "<table border=\"1\" class=\"dataframe\">\n",
       "  <thead>\n",
       "    <tr style=\"text-align: right;\">\n",
       "      <th></th>\n",
       "      <th>id</th>\n",
       "      <th>Response</th>\n",
       "    </tr>\n",
       "  </thead>\n",
       "  <tbody>\n",
       "    <tr>\n",
       "      <th>0</th>\n",
       "      <td>381110</td>\n",
       "      <td>0</td>\n",
       "    </tr>\n",
       "    <tr>\n",
       "      <th>1</th>\n",
       "      <td>381111</td>\n",
       "      <td>0</td>\n",
       "    </tr>\n",
       "    <tr>\n",
       "      <th>2</th>\n",
       "      <td>381112</td>\n",
       "      <td>0</td>\n",
       "    </tr>\n",
       "    <tr>\n",
       "      <th>3</th>\n",
       "      <td>381113</td>\n",
       "      <td>0</td>\n",
       "    </tr>\n",
       "    <tr>\n",
       "      <th>4</th>\n",
       "      <td>381114</td>\n",
       "      <td>0</td>\n",
       "    </tr>\n",
       "  </tbody>\n",
       "</table>\n",
       "</div>"
      ],
      "text/plain": [
       "       id  Response\n",
       "0  381110         0\n",
       "1  381111         0\n",
       "2  381112         0\n",
       "3  381113         0\n",
       "4  381114         0"
      ]
     },
     "execution_count": 68,
     "metadata": {},
     "output_type": "execute_result"
    }
   ],
   "source": [
    "rf=RandomForestClassifier(random_state=1,n_estimators= 409, min_samples_split= 5, min_samples_leaf= 1, max_features= 'sqrt',\n",
    "                          max_depth= 13, class_weight= None, bootstrap= False)\n",
    "rf.fit(X,y)\n",
    "y_pred = rf.predict(test_scaled)\n",
    "\n",
    "col=['id','Response']\n",
    "submit_test = pd.concat([test['id'],pd.DataFrame(y_pred)], axis=1)\n",
    "submit_test.columns=col\n",
    "submit_test.to_csv('sample_submission.csv', index=False)\n",
    "submit_test.head()"
   ]
  },
  {
   "cell_type": "markdown",
   "metadata": {},
   "source": [
    "# Light GBM"
   ]
  },
  {
   "cell_type": "code",
   "execution_count": 54,
   "metadata": {
    "colab": {},
    "colab_type": "code",
    "id": "d9anD_Z2IeNN"
   },
   "outputs": [],
   "source": [
    "import lightgbm as lgb"
   ]
  },
  {
   "cell_type": "code",
   "execution_count": 70,
   "metadata": {},
   "outputs": [
    {
     "name": "stdout",
     "output_type": "stream",
     "text": [
      "AUC of train: 0.8639752871562149\n",
      "AUC of test: 0.8587266144205863\n"
     ]
    }
   ],
   "source": [
    "lgbmc=lgb.LGBMClassifier(random_state=1)\n",
    "\n",
    "lgbmc.fit(X_train,y_train)\n",
    "\n",
    "\n",
    "y_train_pred=lgbmc.predict(X_train)\n",
    "y_train_prob=lgbmc.predict_proba(X_train)[:,1]\n",
    "\n",
    "y_test_pred=lgbmc.predict(X_test)\n",
    "y_test_prob=lgbmc.predict_proba(X_test)[:,1]\n",
    "\n",
    "\n",
    "lgbmc_train_score=roc_auc_score(y_train,y_train_prob)\n",
    "print(\"AUC of train:\",roc_auc_score(y_train,y_train_prob))\n",
    "\n",
    "lgbmc_test_score= roc_auc_score(y_test,y_test_prob)\n",
    "print(\"AUC of test:\",roc_auc_score(y_test,y_test_prob))"
   ]
  },
  {
   "cell_type": "markdown",
   "metadata": {},
   "source": [
    "Hyperperameter Tuning"
   ]
  },
  {
   "cell_type": "code",
   "execution_count": 77,
   "metadata": {},
   "outputs": [
    {
     "name": "stdout",
     "output_type": "stream",
     "text": [
      "{'boosting_type': 'dart', 'learning_rate': 0.175, 'max_depth': 4, 'min_child_samples': 18, 'n_estimators': 669, 'num_leaves': 32}\n"
     ]
    }
   ],
   "source": [
    "lgbmc=lgb.LGBMClassifier(random_state=1,n_jobs=-1,class_weight='balanced')\n",
    "from scipy.stats import randint as sp_randint\n",
    "from sklearn.model_selection import RandomizedSearchCV\n",
    "params={\n",
    "    'n_estimators':sp_randint(1,1000),\n",
    "    'boosting_type':['gbdt','dart','goss','rf'],\n",
    "    'max_depth':sp_randint(1,20),\n",
    "    'min_child_samples':sp_randint(1,30),\n",
    "    'num_leaves':sp_randint(10,50),\n",
    "    'learning_rate':[0,0.025,0.05,0.075,0.1,0.125,0.15,0.175,0.2,0.15],\n",
    "    }\n",
    "\n",
    "cv=StratifiedKFold(n_splits=5,shuffle=True,random_state=1)\n",
    "rsearch=RandomizedSearchCV(estimator=lgbmc,param_distributions=params,cv=cv,scoring='roc_auc',random_state=1,n_iter=50,n_jobs=-1)\n",
    "rsearch.fit(X_train,y_train)\n",
    "print(rsearch.best_params_)"
   ]
  },
  {
   "cell_type": "code",
   "execution_count": 78,
   "metadata": {},
   "outputs": [
    {
     "name": "stdout",
     "output_type": "stream",
     "text": [
      "AUC of train: 0.8628877300698586\n",
      "AUC of test: 0.8591613742892529\n"
     ]
    }
   ],
   "source": [
    "lgbmc=lgb.LGBMClassifier(random_state=1,n_jobs=-1,boosting_type= 'dart', class_weight= 'balanced', learning_rate= 0.175, \n",
    "                         max_depth= 4, min_child_samples= 18, n_estimators= 669, num_leaves= 32)\n",
    "\n",
    "lgbmc.fit(X_train,y_train)\n",
    "\n",
    "\n",
    "y_train_pred=lgbmc.predict(X_train)\n",
    "y_train_prob=lgbmc.predict_proba(X_train)[:,1]\n",
    "\n",
    "y_test_pred=lgbmc.predict(X_test)\n",
    "y_test_prob=lgbmc.predict_proba(X_test)[:,1]\n",
    "\n",
    "\n",
    "lgbmc_train_score=roc_auc_score(y_train,y_train_prob)\n",
    "print(\"AUC of train:\",roc_auc_score(y_train,y_train_prob))\n",
    "\n",
    "lgbmc_test_score= roc_auc_score(y_test,y_test_prob)\n",
    "print(\"AUC of test:\",roc_auc_score(y_test,y_test_prob))"
   ]
  },
  {
   "cell_type": "code",
   "execution_count": 79,
   "metadata": {},
   "outputs": [
    {
     "data": {
      "text/html": [
       "<div>\n",
       "<style scoped>\n",
       "    .dataframe tbody tr th:only-of-type {\n",
       "        vertical-align: middle;\n",
       "    }\n",
       "\n",
       "    .dataframe tbody tr th {\n",
       "        vertical-align: top;\n",
       "    }\n",
       "\n",
       "    .dataframe thead th {\n",
       "        text-align: right;\n",
       "    }\n",
       "</style>\n",
       "<table border=\"1\" class=\"dataframe\">\n",
       "  <thead>\n",
       "    <tr style=\"text-align: right;\">\n",
       "      <th></th>\n",
       "      <th>id</th>\n",
       "      <th>Response</th>\n",
       "    </tr>\n",
       "  </thead>\n",
       "  <tbody>\n",
       "    <tr>\n",
       "      <th>0</th>\n",
       "      <td>381110</td>\n",
       "      <td>0</td>\n",
       "    </tr>\n",
       "    <tr>\n",
       "      <th>1</th>\n",
       "      <td>381111</td>\n",
       "      <td>1</td>\n",
       "    </tr>\n",
       "    <tr>\n",
       "      <th>2</th>\n",
       "      <td>381112</td>\n",
       "      <td>1</td>\n",
       "    </tr>\n",
       "    <tr>\n",
       "      <th>3</th>\n",
       "      <td>381113</td>\n",
       "      <td>0</td>\n",
       "    </tr>\n",
       "    <tr>\n",
       "      <th>4</th>\n",
       "      <td>381114</td>\n",
       "      <td>0</td>\n",
       "    </tr>\n",
       "  </tbody>\n",
       "</table>\n",
       "</div>"
      ],
      "text/plain": [
       "       id  Response\n",
       "0  381110         0\n",
       "1  381111         1\n",
       "2  381112         1\n",
       "3  381113         0\n",
       "4  381114         0"
      ]
     },
     "execution_count": 79,
     "metadata": {},
     "output_type": "execute_result"
    }
   ],
   "source": [
    "lgbmc=lgb.LGBMClassifier(random_state=1,n_jobs=-1,boosting_type= 'dart', class_weight= 'balanced', learning_rate= 0.175, \n",
    "                         max_depth= 4, min_child_samples= 18, n_estimators= 669, num_leaves= 32)\n",
    "\n",
    "lgbmc.fit(X,y)\n",
    "y_pred = lgbmc.predict(test_scaled)\n",
    "\n",
    "col=['id','Response']\n",
    "submit_test = pd.concat([test['id'],pd.DataFrame(y_pred)], axis=1)\n",
    "submit_test.columns=col\n",
    "submit_test.to_csv('sample_submission.csv', index=False)\n",
    "submit_test.head()"
   ]
  },
  {
   "cell_type": "markdown",
   "metadata": {},
   "source": [
    "# CatBoost Classifier"
   ]
  },
  {
   "cell_type": "code",
   "execution_count": 62,
   "metadata": {},
   "outputs": [],
   "source": [
    "from catboost import CatBoostClassifier"
   ]
  },
  {
   "cell_type": "code",
   "execution_count": 87,
   "metadata": {
    "colab": {},
    "colab_type": "code",
    "id": "Ssm9VLihBZTU"
   },
   "outputs": [],
   "source": [
    "cat1 = CatBoostClassifier(custom_metric=['AUC'], auto_class_weights='Balanced',learning_rate=0.15, random_seed=50, max_depth = 5,n_estimators=500, verbose = False)"
   ]
  },
  {
   "cell_type": "code",
   "execution_count": 88,
   "metadata": {
    "colab": {
     "base_uri": "https://localhost:8080/",
     "height": 295
    },
    "colab_type": "code",
    "id": "kQNJ5iNeByN0",
    "outputId": "e3f5572b-ff08-42db-dda0-5dea711727f3"
   },
   "outputs": [
    {
     "name": "stdout",
     "output_type": "stream",
     "text": [
      "0:\tlearn: 0.5817454\ttest: 0.5817036\tbest: 0.5817036 (0)\ttotal: 99.3ms\tremaining: 49.6s\n",
      "50:\tlearn: 0.4226601\ttest: 0.4219357\tbest: 0.4219357 (50)\ttotal: 5.23s\tremaining: 46.1s\n",
      "100:\tlearn: 0.4189460\ttest: 0.4200557\tbest: 0.4200136 (99)\ttotal: 10.3s\tremaining: 40.8s\n",
      "150:\tlearn: 0.4160196\ttest: 0.4195887\tbest: 0.4195328 (145)\ttotal: 15.5s\tremaining: 35.8s\n",
      "200:\tlearn: 0.4138355\ttest: 0.4196110\tbest: 0.4195087 (168)\ttotal: 20.6s\tremaining: 30.6s\n",
      "250:\tlearn: 0.4118536\ttest: 0.4197482\tbest: 0.4195087 (168)\ttotal: 25.9s\tremaining: 25.7s\n",
      "300:\tlearn: 0.4100077\ttest: 0.4200314\tbest: 0.4195087 (168)\ttotal: 31.1s\tremaining: 20.6s\n",
      "350:\tlearn: 0.4082562\ttest: 0.4204013\tbest: 0.4195087 (168)\ttotal: 35.9s\tremaining: 15.2s\n",
      "400:\tlearn: 0.4066786\ttest: 0.4207815\tbest: 0.4195087 (168)\ttotal: 41.1s\tremaining: 10.1s\n",
      "450:\tlearn: 0.4052284\ttest: 0.4212129\tbest: 0.4195087 (168)\ttotal: 46.2s\tremaining: 5.02s\n",
      "499:\tlearn: 0.4038105\ttest: 0.4217319\tbest: 0.4195087 (168)\ttotal: 51.8s\tremaining: 0us\n",
      "\n",
      "bestTest = 0.4195087156\n",
      "bestIteration = 168\n",
      "\n",
      "Shrink model to first 169 iterations.\n"
     ]
    },
    {
     "data": {
      "text/plain": [
       "<catboost.core.CatBoostClassifier at 0x1ccc0d42dc8>"
      ]
     },
     "execution_count": 88,
     "metadata": {},
     "output_type": "execute_result"
    }
   ],
   "source": [
    "cat1.fit(X_train, y_train, eval_set=(X_test, y_test), verbose=50)"
   ]
  },
  {
   "cell_type": "code",
   "execution_count": 89,
   "metadata": {
    "colab": {
     "base_uri": "https://localhost:8080/",
     "height": 55
    },
    "colab_type": "code",
    "id": "VJ44mYsgB68v",
    "outputId": "1e3c939f-eb7d-485b-a10a-b69b6a122669"
   },
   "outputs": [
    {
     "name": "stdout",
     "output_type": "stream",
     "text": [
      "{'learn': {'Logloss': 0.4038104969986107}, 'validation': {'Logloss': 0.4195087156113297, 'AUC': 0.8592692697724487}}\n"
     ]
    }
   ],
   "source": [
    "print(cat1.get_best_score())"
   ]
  },
  {
   "cell_type": "code",
   "execution_count": 91,
   "metadata": {},
   "outputs": [
    {
     "data": {
      "text/html": [
       "<div>\n",
       "<style scoped>\n",
       "    .dataframe tbody tr th:only-of-type {\n",
       "        vertical-align: middle;\n",
       "    }\n",
       "\n",
       "    .dataframe tbody tr th {\n",
       "        vertical-align: top;\n",
       "    }\n",
       "\n",
       "    .dataframe thead th {\n",
       "        text-align: right;\n",
       "    }\n",
       "</style>\n",
       "<table border=\"1\" class=\"dataframe\">\n",
       "  <thead>\n",
       "    <tr style=\"text-align: right;\">\n",
       "      <th></th>\n",
       "      <th>id</th>\n",
       "      <th>Response</th>\n",
       "    </tr>\n",
       "  </thead>\n",
       "  <tbody>\n",
       "    <tr>\n",
       "      <th>0</th>\n",
       "      <td>381110</td>\n",
       "      <td>0</td>\n",
       "    </tr>\n",
       "    <tr>\n",
       "      <th>1</th>\n",
       "      <td>381111</td>\n",
       "      <td>1</td>\n",
       "    </tr>\n",
       "    <tr>\n",
       "      <th>2</th>\n",
       "      <td>381112</td>\n",
       "      <td>1</td>\n",
       "    </tr>\n",
       "    <tr>\n",
       "      <th>3</th>\n",
       "      <td>381113</td>\n",
       "      <td>0</td>\n",
       "    </tr>\n",
       "    <tr>\n",
       "      <th>4</th>\n",
       "      <td>381114</td>\n",
       "      <td>0</td>\n",
       "    </tr>\n",
       "  </tbody>\n",
       "</table>\n",
       "</div>"
      ],
      "text/plain": [
       "       id  Response\n",
       "0  381110         0\n",
       "1  381111         1\n",
       "2  381112         1\n",
       "3  381113         0\n",
       "4  381114         0"
      ]
     },
     "execution_count": 91,
     "metadata": {},
     "output_type": "execute_result"
    }
   ],
   "source": [
    "cat1.fit(X,y)\n",
    "y_pred = cat1.predict(test_scaled)\n",
    "\n",
    "col=['id','Response']\n",
    "submit_test = pd.concat([test['id'],pd.DataFrame(y_pred)], axis=1)\n",
    "submit_test.columns=col\n",
    "submit_test.to_csv('sample_submission.csv', index=False)\n",
    "submit_test.head()"
   ]
  },
  {
   "cell_type": "code",
   "execution_count": null,
   "metadata": {},
   "outputs": [],
   "source": []
  }
 ],
 "metadata": {
  "kernelspec": {
   "display_name": "Python 3",
   "language": "python",
   "name": "python3"
  },
  "language_info": {
   "codemirror_mode": {
    "name": "ipython",
    "version": 3
   },
   "file_extension": ".py",
   "mimetype": "text/x-python",
   "name": "python",
   "nbconvert_exporter": "python",
   "pygments_lexer": "ipython3",
   "version": "3.7.4"
  }
 },
 "nbformat": 4,
 "nbformat_minor": 2
}
